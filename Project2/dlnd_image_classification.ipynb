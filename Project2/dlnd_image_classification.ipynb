{
 "cells": [
  {
   "cell_type": "markdown",
   "metadata": {
    "collapsed": true,
    "deletable": true,
    "editable": true
   },
   "source": [
    "# Image Classification\n",
    "In this project, you'll classify images from the [CIFAR-10 dataset](https://www.cs.toronto.edu/~kriz/cifar.html).  The dataset consists of airplanes, dogs, cats, and other objects. You'll preprocess the images, then train a convolutional neural network on all the samples. The images need to be normalized and the labels need to be one-hot encoded.  You'll get to apply what you learned and build a convolutional, max pooling, dropout, and fully connected layers.  At the end, you'll get to see your neural network's predictions on the sample images.\n",
    "## Get the Data\n",
    "Run the following cell to download the [CIFAR-10 dataset for python](https://www.cs.toronto.edu/~kriz/cifar-10-python.tar.gz)."
   ]
  },
  {
   "cell_type": "code",
   "execution_count": 1,
   "metadata": {
    "collapsed": false,
    "deletable": true,
    "editable": true
   },
   "outputs": [
    {
     "name": "stdout",
     "output_type": "stream",
     "text": [
      "All files found!\n"
     ]
    }
   ],
   "source": [
    "\"\"\"\n",
    "DON'T MODIFY ANYTHING IN THIS CELL THAT IS BELOW THIS LINE\n",
    "\"\"\"\n",
    "from urllib.request import urlretrieve\n",
    "from os.path import isfile, isdir\n",
    "from tqdm import tqdm\n",
    "import problem_unittests as tests\n",
    "import tarfile\n",
    "\n",
    "cifar10_dataset_folder_path = 'cifar-10-batches-py'\n",
    "\n",
    "class DLProgress(tqdm):\n",
    "    last_block = 0\n",
    "\n",
    "    def hook(self, block_num=1, block_size=1, total_size=None):\n",
    "        self.total = total_size\n",
    "        self.update((block_num - self.last_block) * block_size)\n",
    "        self.last_block = block_num\n",
    "\n",
    "if not isfile('cifar-10-python.tar.gz'):\n",
    "    with DLProgress(unit='B', unit_scale=True, miniters=1, desc='CIFAR-10 Dataset') as pbar:\n",
    "        urlretrieve(\n",
    "            'https://www.cs.toronto.edu/~kriz/cifar-10-python.tar.gz',\n",
    "            'cifar-10-python.tar.gz',\n",
    "            pbar.hook)\n",
    "\n",
    "if not isdir(cifar10_dataset_folder_path):\n",
    "    with tarfile.open('cifar-10-python.tar.gz') as tar:\n",
    "        tar.extractall()\n",
    "        tar.close()\n",
    "\n",
    "\n",
    "tests.test_folder_path(cifar10_dataset_folder_path)"
   ]
  },
  {
   "cell_type": "markdown",
   "metadata": {
    "deletable": true,
    "editable": true
   },
   "source": [
    "## Explore the Data\n",
    "The dataset is broken into batches to prevent your machine from running out of memory.  The CIFAR-10 dataset consists of 5 batches, named `data_batch_1`, `data_batch_2`, etc.. Each batch contains the labels and images that are one of the following:\n",
    "* airplane\n",
    "* automobile\n",
    "* bird\n",
    "* cat\n",
    "* deer\n",
    "* dog\n",
    "* frog\n",
    "* horse\n",
    "* ship\n",
    "* truck\n",
    "\n",
    "Understanding a dataset is part of making predictions on the data.  Play around with the code cell below by changing the `batch_id` and `sample_id`. The `batch_id` is the id for a batch (1-5). The `sample_id` is the id for a image and label pair in the batch.\n",
    "\n",
    "Ask yourself \"What are all possible labels?\", \"What is the range of values for the image data?\", \"Are the labels in order or random?\".  Answers to questions like these will help you preprocess the data and end up with better predictions."
   ]
  },
  {
   "cell_type": "code",
   "execution_count": 2,
   "metadata": {
    "collapsed": false,
    "deletable": true,
    "editable": true
   },
   "outputs": [
    {
     "name": "stdout",
     "output_type": "stream",
     "text": [
      "\n",
      "Stats of batch 3:\n",
      "Samples: 10000\n",
      "Label Counts: {0: 994, 1: 1042, 2: 965, 3: 997, 4: 990, 5: 1029, 6: 978, 7: 1015, 8: 961, 9: 1029}\n",
      "First 20 Labels: [8, 5, 0, 6, 9, 2, 8, 3, 6, 2, 7, 4, 6, 9, 0, 0, 7, 3, 7, 2]\n",
      "\n",
      "Example of Image 17:\n",
      "Image - Min Value: 9 Max Value: 229\n",
      "Image - Shape: (32, 32, 3)\n",
      "Label - Label Id: 3 Name: cat\n"
     ]
    },
    {
     "data": {
      "image/png": "[encoded data removed]",
      "text/plain": [
       "<matplotlib.figure.Figure at 0x7f76f0033400>"
      ]
     },
     "metadata": {
      "image/png": {
       "height": 250,
       "width": 253
      }
     },
     "output_type": "display_data"
    }
   ],
   "source": [
    "%matplotlib inline\n",
    "%config InlineBackend.figure_format = 'retina'\n",
    "\n",
    "import helper\n",
    "import numpy as np\n",
    "\n",
    "# Explore the dataset\n",
    "batch_id = 3\n",
    "sample_id = 17\n",
    "helper.display_stats(cifar10_dataset_folder_path, batch_id, sample_id)"
   ]
  },
  {
   "cell_type": "markdown",
   "metadata": {
    "deletable": true,
    "editable": true
   },
   "source": [
    "## Implement Preprocess Functions\n",
    "### Normalize\n",
    "In the cell below, implement the `normalize` function to take in image data, `x`, and return it as a normalized Numpy array. The values should be in the range of 0 to 1, inclusive.  The return object should be the same shape as `x`."
   ]
  },
  {
   "cell_type": "code",
   "execution_count": 91,
   "metadata": {
    "collapsed": false,
    "deletable": true,
    "editable": true
   },
   "outputs": [
    {
     "name": "stdout",
     "output_type": "stream",
     "text": [
      "Tests Passed\n"
     ]
    }
   ],
   "source": [
    "def normalize(x):\n",
    "    \"\"\"\n",
    "    Normalize a list of sample image data in the range of 0 to 1\n",
    "    : x: List of image data.  The image shape is (32, 32, 3)\n",
    "    : return: Numpy array of normalize data\n",
    "    \"\"\"\n",
    "    # TODO: Implement Function\n",
    "    a = 0.1\n",
    "    b = 0.9\n",
    "    min_val = 0\n",
    "    max_val = 255\n",
    "    return np.array(a + ( ( (x - min_val)*(b - a) )/( max_val - min_val ) ))\n",
    "\n",
    "\n",
    "\"\"\"\n",
    "DON'T MODIFY ANYTHING IN THIS CELL THAT IS BELOW THIS LINE\n",
    "\"\"\"\n",
    "tests.test_normalize(normalize)"
   ]
  },
  {
   "cell_type": "markdown",
   "metadata": {
    "deletable": true,
    "editable": true
   },
   "source": [
    "### One-hot encode\n",
    "Just like the previous code cell, you'll be implementing a function for preprocessing.  This time, you'll implement the `one_hot_encode` function. The input, `x`, are a list of labels.  Implement the function to return the list of labels as One-Hot encoded Numpy array.  The possible values for labels are 0 to 9. The one-hot encoding function should return the same encoding for each value between each call to `one_hot_encode`.  Make sure to save the map of encodings outside the function.\n",
    "\n",
    "Hint: Don't reinvent the wheel."
   ]
  },
  {
   "cell_type": "code",
   "execution_count": 194,
   "metadata": {
    "collapsed": false,
    "deletable": true,
    "editable": true
   },
   "outputs": [
    {
     "name": "stdout",
     "output_type": "stream",
     "text": [
      "Tests Passed\n"
     ]
    }
   ],
   "source": [
    "from sklearn.preprocessing import LabelBinarizer\n",
    "y=np.array([0,1,2,3,4,5,6,7,8,9])\n",
    "def one_hot_encode(x):\n",
    "    \"\"\"\n",
    "    One hot encode a list of sample labels. Return a one-hot encoded vector for each label.\n",
    "    : x: List of sample Labels\n",
    "    : return: Numpy array of one-hot encoded labels\n",
    "    \"\"\"\n",
    "    # TODO: Implement Function\n",
    "    encoder = LabelBinarizer()\n",
    "    encoder.fit(y)\n",
    "    x = encoder.transform(x)\n",
    "    return x\n",
    "\n",
    "\n",
    "\"\"\"\n",
    "DON'T MODIFY ANYTHING IN THIS CELL THAT IS BELOW THIS LINE\n",
    "\"\"\"\n",
    "tests.test_one_hot_encode(one_hot_encode)"
   ]
  },
  {
   "cell_type": "markdown",
   "metadata": {
    "deletable": true,
    "editable": true
   },
   "source": [
    "### Randomize Data\n",
    "As you saw from exploring the data above, the order of the samples are randomized.  It doesn't hurt to randomize it again, but you don't need to for this dataset."
   ]
  },
  {
   "cell_type": "markdown",
   "metadata": {
    "deletable": true,
    "editable": true
   },
   "source": [
    "## Preprocess all the data and save it\n",
    "Running the code cell below will preprocess all the CIFAR-10 data and save it to file. The code below also uses 10% of the training data for validation."
   ]
  },
  {
   "cell_type": "code",
   "execution_count": 195,
   "metadata": {
    "collapsed": false,
    "deletable": true,
    "editable": true
   },
   "outputs": [],
   "source": [
    "\"\"\"\n",
    "DON'T MODIFY ANYTHING IN THIS CELL\n",
    "\"\"\"\n",
    "# Preprocess Training, Validation, and Testing Data\n",
    "helper.preprocess_and_save_data(cifar10_dataset_folder_path, normalize, one_hot_encode)"
   ]
  },
  {
   "cell_type": "markdown",
   "metadata": {
    "deletable": true,
    "editable": true
   },
   "source": [
    "# Check Point\n",
    "This is your first checkpoint.  If you ever decide to come back to this notebook or have to restart the notebook, you can start from here.  The preprocessed data has been saved to disk."
   ]
  },
  {
   "cell_type": "code",
   "execution_count": 196,
   "metadata": {
    "collapsed": true,
    "deletable": true,
    "editable": true
   },
   "outputs": [],
   "source": [
    "\"\"\"\n",
    "DON'T MODIFY ANYTHING IN THIS CELL\n",
    "\"\"\"\n",
    "import pickle\n",
    "import problem_unittests as tests\n",
    "import helper\n",
    "\n",
    "# Load the Preprocessed Validation data\n",
    "valid_features, valid_labels = pickle.load(open('preprocess_validation.p', mode='rb'))"
   ]
  },
  {
   "cell_type": "markdown",
   "metadata": {
    "deletable": true,
    "editable": true
   },
   "source": [
    "## Build the network\n",
    "For the neural network, you'll build each layer into a function.  Most of the code you've seen has been outside of functions. To test your code more thoroughly, we require that you put each layer in a function.  This allows us to give you better feedback and test for simple mistakes using our unittests before you submit your project.\n",
    "\n",
    ">**Note:** If you're finding it hard to dedicate enough time for this course each week, we've provided a small shortcut to this part of the project. In the next couple of problems, you'll have the option to use classes from the [TensorFlow Layers](https://www.tensorflow.org/api_docs/python/tf/layers) or [TensorFlow Layers (contrib)](https://www.tensorflow.org/api_guides/python/contrib.layers) packages to build each layer, except the layers you build in the \"Convolutional and Max Pooling Layer\" section.  TF Layers is similar to Keras's and TFLearn's abstraction to layers, so it's easy to pickup.\n",
    "\n",
    ">However, if you would like to get the most out of this course, try to solve all the problems _without_ using anything from the TF Layers packages. You **can** still use classes from other packages that happen to have the same name as ones you find in TF Layers! For example, instead of using the TF Layers version of the `conv2d` class, [tf.layers.conv2d](https://www.tensorflow.org/api_docs/python/tf/layers/conv2d), you would want to use the TF Neural Network version of `conv2d`, [tf.nn.conv2d](https://www.tensorflow.org/api_docs/python/tf/nn/conv2d). \n",
    "\n",
    "Let's begin!\n",
    "\n",
    "### Input\n",
    "The neural network needs to read the image data, one-hot encoded labels, and dropout keep probability. Implement the following functions\n",
    "* Implement `neural_net_image_input`\n",
    " * Return a [TF Placeholder](https://www.tensorflow.org/api_docs/python/tf/placeholder)\n",
    " * Set the shape using `image_shape` with batch size set to `None`.\n",
    " * Name the TensorFlow placeholder \"x\" using the TensorFlow `name` parameter in the [TF Placeholder](https://www.tensorflow.org/api_docs/python/tf/placeholder).\n",
    "* Implement `neural_net_label_input`\n",
    " * Return a [TF Placeholder](https://www.tensorflow.org/api_docs/python/tf/placeholder)\n",
    " * Set the shape using `n_classes` with batch size set to `None`.\n",
    " * Name the TensorFlow placeholder \"y\" using the TensorFlow `name` parameter in the [TF Placeholder](https://www.tensorflow.org/api_docs/python/tf/placeholder).\n",
    "* Implement `neural_net_keep_prob_input`\n",
    " * Return a [TF Placeholder](https://www.tensorflow.org/api_docs/python/tf/placeholder) for dropout keep probability.\n",
    " * Name the TensorFlow placeholder \"keep_prob\" using the TensorFlow `name` parameter in the [TF Placeholder](https://www.tensorflow.org/api_docs/python/tf/placeholder).\n",
    "\n",
    "These names will be used at the end of the project to load your saved model.\n",
    "\n",
    "Note: `None` for shapes in TensorFlow allow for a dynamic size."
   ]
  },
  {
   "cell_type": "code",
   "execution_count": 197,
   "metadata": {
    "collapsed": false,
    "deletable": true,
    "editable": true
   },
   "outputs": [
    {
     "name": "stdout",
     "output_type": "stream",
     "text": [
      "Image Input Tests Passed.\n",
      "Label Input Tests Passed.\n",
      "Keep Prob Tests Passed.\n"
     ]
    }
   ],
   "source": [
    "import tensorflow as tf\n",
    "\n",
    "def neural_net_image_input(image_shape):\n",
    "    \"\"\"\n",
    "    Return a Tensor for a batch of image input\n",
    "    : image_shape: Shape of the images\n",
    "    : return: Tensor for image input.\n",
    "    \"\"\"\n",
    "    # TODO: Implement Function\n",
    "    return tf.placeholder(tf.float32, [None, image_shape[0], image_shape[1], image_shape[2]], \"x\")\n",
    "\n",
    "\n",
    "def neural_net_label_input(n_classes):\n",
    "    \"\"\"\n",
    "    Return a Tensor for a batch of label input\n",
    "    : n_classes: Number of classes\n",
    "    : return: Tensor for label input.\n",
    "    \"\"\"\n",
    "    # TODO: Implement Function\n",
    "    return tf.placeholder(tf.float32, [None, n_classes], \"y\")\n",
    "\n",
    "\n",
    "def neural_net_keep_prob_input():\n",
    "    \"\"\"\n",
    "    Return a Tensor for keep probability\n",
    "    : return: Tensor for keep probability.\n",
    "    \"\"\"\n",
    "    # TODO: Implement Function\n",
    "    return tf.placeholder(tf.float32, name=\"keep_prob\")\n",
    "\n",
    "\n",
    "\"\"\"\n",
    "DON'T MODIFY ANYTHING IN THIS CELL THAT IS BELOW THIS LINE\n",
    "\"\"\"\n",
    "tf.reset_default_graph()\n",
    "tests.test_nn_image_inputs(neural_net_image_input)\n",
    "tests.test_nn_label_inputs(neural_net_label_input)\n",
    "tests.test_nn_keep_prob_inputs(neural_net_keep_prob_input)"
   ]
  },
  {
   "cell_type": "markdown",
   "metadata": {
    "deletable": true,
    "editable": true
   },
   "source": [
    "### Convolution and Max Pooling Layer\n",
    "Convolution layers have a lot of success with images. For this code cell, you should implement the function `conv2d_maxpool` to apply convolution then max pooling:\n",
    "* Create the weight and bias using `conv_ksize`, `conv_num_outputs` and the shape of `x_tensor`.\n",
    "* Apply a convolution to `x_tensor` using weight and `conv_strides`.\n",
    " * We recommend you use same padding, but you're welcome to use any padding.\n",
    "* Add bias\n",
    "* Add a nonlinear activation to the convolution.\n",
    "* Apply Max Pooling using `pool_ksize` and `pool_strides`.\n",
    " * We recommend you use same padding, but you're welcome to use any padding.\n",
    "\n",
    "**Note:** You **can't** use [TensorFlow Layers](https://www.tensorflow.org/api_docs/python/tf/layers) or [TensorFlow Layers (contrib)](https://www.tensorflow.org/api_guides/python/contrib.layers) for **this** layer, but you can still use TensorFlow's [Neural Network](https://www.tensorflow.org/api_docs/python/tf/nn) package. You may still use the shortcut option for all the **other** layers."
   ]
  },
  {
   "cell_type": "code",
   "execution_count": 198,
   "metadata": {
    "collapsed": false,
    "deletable": true,
    "editable": true
   },
   "outputs": [
    {
     "name": "stdout",
     "output_type": "stream",
     "text": [
      "Tests Passed\n"
     ]
    }
   ],
   "source": [
    "def conv2d_maxpool(x_tensor, conv_num_outputs, conv_ksize, conv_strides, pool_ksize, pool_strides):\n",
    "    \"\"\"\n",
    "    Apply convolution then max pooling to x_tensor\n",
    "    :param x_tensor: TensorFlow Tensor\n",
    "    :param conv_num_outputs: Number of outputs for the convolutional layer\n",
    "    :param conv_ksize: kernal size 2-D Tuple for the convolutional layer\n",
    "    :param conv_strides: Stride 2-D Tuple for convolution\n",
    "    :param pool_ksize: kernal size 2-D Tuple for pool\n",
    "    :param pool_strides: Stride 2-D Tuple for pool\n",
    "    : return: A tensor that represents convolution and max pooling of x_tensor\n",
    "    \"\"\"\n",
    "    # TODO: Implement Function\n",
    "    x = x_tensor\n",
    "    W = tf.truncated_normal([conv_ksize[0], conv_ksize[1], x.get_shape().as_list()[-1], conv_num_outputs],mean=0.0, stddev=0.1,dtype=tf.float32)\n",
    "    b = tf.zeros(conv_num_outputs,dtype=tf.float32)\n",
    "    #b = tf.truncated_normal([conv_num_outputs], mean=0.0, stddev=0.1,dtype=tf.float32)\n",
    "    conv = tf.nn.conv2d(x, W, strides=[1,conv_strides[0],conv_strides[1],1], padding='SAME')\n",
    "    #x = tf.nn.bias_add(x, b)\n",
    "    conv += b\n",
    "    conv = tf.nn.relu(conv)\n",
    "\n",
    "    return tf.nn.max_pool(\n",
    "        conv,\n",
    "        ksize=[1,pool_ksize[0],pool_ksize[1],1],\n",
    "        strides=[1,pool_strides[0],pool_strides[1],1],\n",
    "        padding='SAME') \n",
    "\n",
    "\n",
    "\"\"\"\n",
    "DON'T MODIFY ANYTHING IN THIS CELL THAT IS BELOW THIS LINE\n",
    "\"\"\"\n",
    "tests.test_con_pool(conv2d_maxpool)"
   ]
  },
  {
   "cell_type": "markdown",
   "metadata": {
    "deletable": true,
    "editable": true
   },
   "source": [
    "### Flatten Layer\n",
    "Implement the `flatten` function to change the dimension of `x_tensor` from a 4-D tensor to a 2-D tensor.  The output should be the shape (*Batch Size*, *Flattened Image Size*). Shortcut option: you can use classes from the [TensorFlow Layers](https://www.tensorflow.org/api_docs/python/tf/layers) or [TensorFlow Layers (contrib)](https://www.tensorflow.org/api_guides/python/contrib.layers) packages for this layer. For more of a challenge, only use other TensorFlow packages."
   ]
  },
  {
   "cell_type": "code",
   "execution_count": 199,
   "metadata": {
    "collapsed": false,
    "deletable": true,
    "editable": true
   },
   "outputs": [
    {
     "name": "stdout",
     "output_type": "stream",
     "text": [
      "Tests Passed\n"
     ]
    }
   ],
   "source": [
    "def flatten(x_tensor):\n",
    "    \"\"\"\n",
    "    Flatten x_tensor to (Batch Size, Flattened Image Size)\n",
    "    : x_tensor: A tensor of size (Batch Size, ...), where ... are the image dimensions.\n",
    "    : return: A tensor of size (Batch Size, Flattened Image Size).\n",
    "    \"\"\"\n",
    "    # TODO: Implement Function\n",
    "    #return tf.contrib.layers.flatten(x_tensor)\n",
    "    width = x_tensor.get_shape()[1]\n",
    "    height = x_tensor.get_shape()[2]\n",
    "    depth = x_tensor.get_shape()[3]\n",
    "    flatSize = width * height * depth\n",
    "    flatShape = [-1, flatSize.value]\n",
    "    return tf.reshape(x_tensor, flatShape)\n",
    "\n",
    "\n",
    "\"\"\"\n",
    "DON'T MODIFY ANYTHING IN THIS CELL THAT IS BELOW THIS LINE\n",
    "\"\"\"\n",
    "tests.test_flatten(flatten)"
   ]
  },
  {
   "cell_type": "markdown",
   "metadata": {
    "deletable": true,
    "editable": true
   },
   "source": [
    "### Fully-Connected Layer\n",
    "Implement the `fully_conn` function to apply a fully connected layer to `x_tensor` with the shape (*Batch Size*, *num_outputs*). Shortcut option: you can use classes from the [TensorFlow Layers](https://www.tensorflow.org/api_docs/python/tf/layers) or [TensorFlow Layers (contrib)](https://www.tensorflow.org/api_guides/python/contrib.layers) packages for this layer. For more of a challenge, only use other TensorFlow packages."
   ]
  },
  {
   "cell_type": "code",
   "execution_count": 200,
   "metadata": {
    "collapsed": false,
    "deletable": true,
    "editable": true
   },
   "outputs": [
    {
     "name": "stdout",
     "output_type": "stream",
     "text": [
      "Tests Passed\n"
     ]
    }
   ],
   "source": [
    "def fully_conn(x_tensor, num_outputs):\n",
    "    \"\"\"\n",
    "    Apply a fully connected layer to x_tensor using weight and bias\n",
    "    : x_tensor: A 2-D tensor where the first dimension is batch size.\n",
    "    : num_outputs: The number of output that the new tensor should be.\n",
    "    : return: A 2-D tensor where the second dimension is num_outputs.\n",
    "    \"\"\"\n",
    "    # TODO: Implement Function\n",
    "    #return tf.contrib.layers.fully_connected(x_tensor, num_outputs, activation_fn=tf.nn.relu)\n",
    "    fc_weights = tf.Variable(tf.truncated_normal([x_tensor.get_shape().as_list()[-1], num_outputs], mean=0.0, stddev=0.1, dtype=tf.float32))\n",
    "    fc_biases = tf.Variable(tf.zeros(shape=[num_outputs]), dtype=tf.float32)\n",
    "    fc = tf.reshape(x_tensor, [-1, fc_weights.get_shape().as_list()[0]])\n",
    "    fc = tf.add(tf.matmul(fc, fc_weights), fc_biases)\n",
    "    fc = tf.nn.relu(fc)\n",
    "    return fc\n",
    "\n",
    "\n",
    "\"\"\"\n",
    "DON'T MODIFY ANYTHING IN THIS CELL THAT IS BELOW THIS LINE\n",
    "\"\"\"\n",
    "tests.test_fully_conn(fully_conn)"
   ]
  },
  {
   "cell_type": "markdown",
   "metadata": {
    "deletable": true,
    "editable": true
   },
   "source": [
    "### Output Layer\n",
    "Implement the `output` function to apply a fully connected layer to `x_tensor` with the shape (*Batch Size*, *num_outputs*). Shortcut option: you can use classes from the [TensorFlow Layers](https://www.tensorflow.org/api_docs/python/tf/layers) or [TensorFlow Layers (contrib)](https://www.tensorflow.org/api_guides/python/contrib.layers) packages for this layer. For more of a challenge, only use other TensorFlow packages.\n",
    "\n",
    "**Note:** Activation, softmax, or cross entropy should **not** be applied to this."
   ]
  },
  {
   "cell_type": "code",
   "execution_count": 201,
   "metadata": {
    "collapsed": false,
    "deletable": true,
    "editable": true
   },
   "outputs": [
    {
     "name": "stdout",
     "output_type": "stream",
     "text": [
      "Tests Passed\n"
     ]
    }
   ],
   "source": [
    "def output(x_tensor, num_outputs):\n",
    "    \"\"\"\n",
    "    Apply a output layer to x_tensor using weight and bias\n",
    "    : x_tensor: A 2-D tensor where the first dimension is batch size.\n",
    "    : num_outputs: The number of output that the new tensor should be.\n",
    "    : return: A 2-D tensor where the second dimension is num_outputs.\n",
    "    \"\"\"\n",
    "    # TODO: Implement Function\n",
    "    #return tf.contrib.layers.fully_connected(x_tensor, num_outputs, activation_fn=None)\n",
    "    out_weights = tf.Variable(tf.truncated_normal([x_tensor.get_shape().as_list()[-1], num_outputs], mean=0.0, stddev=0.1, dtype=tf.float32))\n",
    "    out_biases = tf.Variable(tf.zeros(shape=[num_outputs]), dtype=tf.float32)\n",
    "    return tf.add(tf.matmul(x_tensor, out_weights), out_biases)\n",
    "\n",
    "\n",
    "\"\"\"\n",
    "DON'T MODIFY ANYTHING IN THIS CELL THAT IS BELOW THIS LINE\n",
    "\"\"\"\n",
    "tests.test_output(output)"
   ]
  },
  {
   "cell_type": "markdown",
   "metadata": {
    "deletable": true,
    "editable": true
   },
   "source": [
    "### Create Convolutional Model\n",
    "Implement the function `conv_net` to create a convolutional neural network model. The function takes in a batch of images, `x`, and outputs logits.  Use the layers you created above to create this model:\n",
    "\n",
    "* Apply 1, 2, or 3 Convolution and Max Pool layers\n",
    "* Apply a Flatten Layer\n",
    "* Apply 1, 2, or 3 Fully Connected Layers\n",
    "* Apply an Output Layer\n",
    "* Return the output\n",
    "* Apply [TensorFlow's Dropout](https://www.tensorflow.org/api_docs/python/tf/nn/dropout) to one or more layers in the model using `keep_prob`. "
   ]
  },
  {
   "cell_type": "code",
   "execution_count": 202,
   "metadata": {
    "collapsed": false,
    "deletable": true,
    "editable": true
   },
   "outputs": [
    {
     "name": "stdout",
     "output_type": "stream",
     "text": [
      "Neural Network Built!\n"
     ]
    }
   ],
   "source": [
    "def conv_net(x, keep_prob):\n",
    "    \"\"\"\n",
    "    Create a convolutional neural network model\n",
    "    : x: Placeholder tensor that holds image data.\n",
    "    : keep_prob: Placeholder tensor that hold dropout keep probability.\n",
    "    : return: Tensor that represents logits\n",
    "    \"\"\"\n",
    "    # TODO: Apply 1, 2, or 3 Convolution and Max Pool layers\n",
    "    #    Play around with different number of outputs, kernel size and stride\n",
    "    # Function Definition from Above:\n",
    "    #    conv2d_maxpool(x_tensor, conv_num_outputs, conv_ksize, conv_strides, pool_ksize, pool_strides)\n",
    "    \n",
    "    num_outputs = 10\n",
    "    \n",
    "    x = conv2d_maxpool(x, 32, (5,5), (2,2), (2,2), (2,2))\n",
    "    #x = tf.nn.dropout(x, keep_prob)\n",
    "    x = conv2d_maxpool(x, 128, (3,3), (1,1), (2,2), (2,2))\n",
    "\n",
    "    # TODO: Apply a Flatten Layer\n",
    "    # Function Definition from Above:\n",
    "    #   flatten(x_tensor)\n",
    "    x = flatten(x)\n",
    "    \n",
    "\n",
    "    # TODO: Apply 1, 2, or 3 Fully Connected Layers\n",
    "    #    Play around with different number of outputs\n",
    "    # Function Definition from Above:\n",
    "    #   fully_conn(x_tensor, num_outputs)\n",
    "    \n",
    "    #x = fully_conn(x, 64)\n",
    "    #x = tf.nn.dropout(x, keep_prob)\n",
    "    x = fully_conn(x, 300)\n",
    "    #x = fully_conn(x, 32)\n",
    "    \n",
    "    # TODO: Apply an Output Layer\n",
    "    #    Set this to the number of classes\n",
    "    # Function Definition from Above:\n",
    "    #   output(x_tensor, num_outputs)\n",
    "    \n",
    "    x = output(x, num_outputs)\n",
    "    \n",
    "    # TODO: return output\n",
    "    return x\n",
    "\n",
    "\n",
    "\"\"\"\n",
    "DON'T MODIFY ANYTHING IN THIS CELL THAT IS BELOW THIS LINE\n",
    "\"\"\"\n",
    "\n",
    "##############################\n",
    "## Build the Neural Network ##\n",
    "##############################\n",
    "\n",
    "# Remove previous weights, bias, inputs, etc..\n",
    "tf.reset_default_graph()\n",
    "\n",
    "# Inputs\n",
    "x = neural_net_image_input((32, 32, 3))\n",
    "y = neural_net_label_input(10)\n",
    "keep_prob = neural_net_keep_prob_input()\n",
    "\n",
    "# Model\n",
    "logits = conv_net(x, keep_prob)\n",
    "\n",
    "# Name logits Tensor, so that is can be loaded from disk after training\n",
    "logits = tf.identity(logits, name='logits')\n",
    "\n",
    "# Loss and Optimizer\n",
    "cost = tf.reduce_mean(tf.nn.softmax_cross_entropy_with_logits(logits=logits, labels=y))\n",
    "optimizer = tf.train.AdamOptimizer().minimize(cost)\n",
    "\n",
    "# Accuracy\n",
    "correct_pred = tf.equal(tf.argmax(logits, 1), tf.argmax(y, 1))\n",
    "accuracy = tf.reduce_mean(tf.cast(correct_pred, tf.float32), name='accuracy')\n",
    "\n",
    "tests.test_conv_net(conv_net)"
   ]
  },
  {
   "cell_type": "markdown",
   "metadata": {
    "deletable": true,
    "editable": true
   },
   "source": [
    "## Train the Neural Network\n",
    "### Single Optimization\n",
    "Implement the function `train_neural_network` to do a single optimization.  The optimization should use `optimizer` to optimize in `session` with a `feed_dict` of the following:\n",
    "* `x` for image input\n",
    "* `y` for labels\n",
    "* `keep_prob` for keep probability for dropout\n",
    "\n",
    "This function will be called for each batch, so `tf.global_variables_initializer()` has already been called.\n",
    "\n",
    "Note: Nothing needs to be returned. This function is only optimizing the neural network."
   ]
  },
  {
   "cell_type": "code",
   "execution_count": 203,
   "metadata": {
    "collapsed": false,
    "deletable": true,
    "editable": true
   },
   "outputs": [
    {
     "name": "stdout",
     "output_type": "stream",
     "text": [
      "Tests Passed\n"
     ]
    }
   ],
   "source": [
    "def train_neural_network(session, optimizer, keep_probability, feature_batch, label_batch):\n",
    "    \"\"\"\n",
    "    Optimize the session on a batch of images and labels\n",
    "    : session: Current TensorFlow session\n",
    "    : optimizer: TensorFlow optimizer function\n",
    "    : keep_probability: keep probability\n",
    "    : feature_batch: Batch of Numpy image data\n",
    "    : label_batch: Batch of Numpy label data\n",
    "    \"\"\"\n",
    "    # TODO: Implement Function\n",
    "    session.run(optimizer, feed_dict={\n",
    "                x: feature_batch,\n",
    "                y: label_batch,\n",
    "                keep_prob: keep_probability})\n",
    "\n",
    "\n",
    "\"\"\"\n",
    "DON'T MODIFY ANYTHING IN THIS CELL THAT IS BELOW THIS LINE\n",
    "\"\"\"\n",
    "tests.test_train_nn(train_neural_network)"
   ]
  },
  {
   "cell_type": "markdown",
   "metadata": {
    "deletable": true,
    "editable": true
   },
   "source": [
    "### Show Stats\n",
    "Implement the function `print_stats` to print loss and validation accuracy.  Use the global variables `valid_features` and `valid_labels` to calculate validation accuracy.  Use a keep probability of `1.0` to calculate the loss and validation accuracy."
   ]
  },
  {
   "cell_type": "code",
   "execution_count": 204,
   "metadata": {
    "collapsed": false,
    "deletable": true,
    "editable": true
   },
   "outputs": [],
   "source": [
    "def print_stats(session, feature_batch, label_batch, cost, accuracy):\n",
    "    \"\"\"\n",
    "    Print information about loss and validation accuracy\n",
    "    : session: Current TensorFlow session\n",
    "    : feature_batch: Batch of Numpy image data\n",
    "    : label_batch: Batch of Numpy label data\n",
    "    : cost: TensorFlow cost function\n",
    "    : accuracy: TensorFlow accuracy function\n",
    "    \"\"\"\n",
    "    # TODO: Implement Function\n",
    "    loss = sess.run(cost, feed_dict={\n",
    "            x: feature_batch,\n",
    "            y: label_batch,\n",
    "            keep_prob: 1.})\n",
    "    valid_acc = sess.run(accuracy, feed_dict={\n",
    "            x: valid_features,\n",
    "            y: valid_labels,\n",
    "            keep_prob: 1.})\n",
    "    print('Loss: {:>10.4f} Validation Accuracy: {:.6f}'.format(\n",
    "            loss,\n",
    "            valid_acc))    "
   ]
  },
  {
   "cell_type": "markdown",
   "metadata": {
    "deletable": true,
    "editable": true
   },
   "source": [
    "### Hyperparameters\n",
    "Tune the following parameters:\n",
    "* Set `epochs` to the number of iterations until the network stops learning or start overfitting\n",
    "* Set `batch_size` to the highest number that your machine has memory for.  Most people set them to common sizes of memory:\n",
    " * 64\n",
    " * 128\n",
    " * 256\n",
    " * ...\n",
    "* Set `keep_probability` to the probability of keeping a node using dropout"
   ]
  },
  {
   "cell_type": "code",
   "execution_count": 205,
   "metadata": {
    "collapsed": true,
    "deletable": true,
    "editable": true
   },
   "outputs": [],
   "source": [
    "# TODO: Tune Parameters\n",
    "epochs = 50\n",
    "batch_size = 128\n",
    "keep_probability = 0.75"
   ]
  },
  {
   "cell_type": "markdown",
   "metadata": {
    "deletable": true,
    "editable": true
   },
   "source": [
    "### Train on a Single CIFAR-10 Batch\n",
    "Instead of training the neural network on all the CIFAR-10 batches of data, let's use a single batch. This should save time while you iterate on the model to get a better accuracy.  Once the final validation accuracy is 50% or greater, run the model on all the data in the next section."
   ]
  },
  {
   "cell_type": "code",
   "execution_count": 206,
   "metadata": {
    "collapsed": false,
    "deletable": true,
    "editable": true
   },
   "outputs": [
    {
     "name": "stdout",
     "output_type": "stream",
     "text": [
      "Checking the Training on a Single Batch...\n",
      "Epoch  1, CIFAR-10 Batch 1:  Loss:     2.3068 Validation Accuracy: 0.097200\n",
      "Epoch  2, CIFAR-10 Batch 1:  Loss:     2.2713 Validation Accuracy: 0.145400\n",
      "Epoch  3, CIFAR-10 Batch 1:  Loss:     2.3278 Validation Accuracy: 0.106000\n",
      "Epoch  4, CIFAR-10 Batch 1:  Loss:     2.2855 Validation Accuracy: 0.140800\n",
      "Epoch  5, CIFAR-10 Batch 1:  Loss:     2.2767 Validation Accuracy: 0.142600\n",
      "Epoch  6, CIFAR-10 Batch 1:  Loss:     2.3869 Validation Accuracy: 0.163600\n",
      "Epoch  7, CIFAR-10 Batch 1:  Loss:     2.2495 Validation Accuracy: 0.159000\n",
      "Epoch  8, CIFAR-10 Batch 1:  Loss:     2.3051 Validation Accuracy: 0.148000\n",
      "Epoch  9, CIFAR-10 Batch 1:  Loss:     2.1983 Validation Accuracy: 0.159400\n",
      "Epoch 10, CIFAR-10 Batch 1:  Loss:     2.2868 Validation Accuracy: 0.143000\n",
      "Epoch 11, CIFAR-10 Batch 1:  Loss:     2.2556 Validation Accuracy: 0.156800\n",
      "Epoch 12, CIFAR-10 Batch 1:  Loss:     2.2305 Validation Accuracy: 0.191200\n",
      "Epoch 13, CIFAR-10 Batch 1:  Loss:     2.2509 Validation Accuracy: 0.146200\n",
      "Epoch 14, CIFAR-10 Batch 1:  Loss:     2.2299 Validation Accuracy: 0.183800\n",
      "Epoch 15, CIFAR-10 Batch 1:  Loss:     2.2592 Validation Accuracy: 0.216200\n",
      "Epoch 16, CIFAR-10 Batch 1:  Loss:     2.3049 Validation Accuracy: 0.191200\n",
      "Epoch 17, CIFAR-10 Batch 1:  Loss:     2.2774 Validation Accuracy: 0.192200\n",
      "Epoch 18, CIFAR-10 Batch 1:  Loss:     2.2978 Validation Accuracy: 0.134600\n",
      "Epoch 19, CIFAR-10 Batch 1:  Loss:     2.3860 Validation Accuracy: 0.187800\n",
      "Epoch 20, CIFAR-10 Batch 1:  Loss:     2.3029 Validation Accuracy: 0.194400\n",
      "Epoch 21, CIFAR-10 Batch 1:  Loss:     2.2571 Validation Accuracy: 0.193600\n",
      "Epoch 22, CIFAR-10 Batch 1:  Loss:     2.2572 Validation Accuracy: 0.203000\n",
      "Epoch 23, CIFAR-10 Batch 1:  Loss:     2.3209 Validation Accuracy: 0.208000\n",
      "Epoch 24, CIFAR-10 Batch 1:  Loss:     2.2784 Validation Accuracy: 0.184000\n",
      "Epoch 25, CIFAR-10 Batch 1:  Loss:     2.2776 Validation Accuracy: 0.182800\n",
      "Epoch 26, CIFAR-10 Batch 1:  Loss:     2.3046 Validation Accuracy: 0.198400\n",
      "Epoch 27, CIFAR-10 Batch 1:  Loss:     2.2964 Validation Accuracy: 0.204400\n",
      "Epoch 28, CIFAR-10 Batch 1:  Loss:     2.2983 Validation Accuracy: 0.218400\n",
      "Epoch 29, CIFAR-10 Batch 1:  Loss:     2.2910 Validation Accuracy: 0.190600\n",
      "Epoch 30, CIFAR-10 Batch 1:  Loss:     2.2569 Validation Accuracy: 0.215800\n",
      "Epoch 31, CIFAR-10 Batch 1:  Loss:     2.3542 Validation Accuracy: 0.225600\n",
      "Epoch 32, CIFAR-10 Batch 1:  Loss:     2.3426 Validation Accuracy: 0.197200\n",
      "Epoch 33, CIFAR-10 Batch 1:  Loss:     2.2781 Validation Accuracy: 0.199600\n",
      "Epoch 34, CIFAR-10 Batch 1:  Loss:     2.2778 Validation Accuracy: 0.181000\n",
      "Epoch 35, CIFAR-10 Batch 1:  Loss:     2.2800 Validation Accuracy: 0.185600\n",
      "Epoch 36, CIFAR-10 Batch 1:  Loss:     2.2490 Validation Accuracy: 0.199200\n",
      "Epoch 37, CIFAR-10 Batch 1:  Loss:     2.2614 Validation Accuracy: 0.225400\n",
      "Epoch 38, CIFAR-10 Batch 1:  Loss:     2.2487 Validation Accuracy: 0.198200\n",
      "Epoch 39, CIFAR-10 Batch 1:  Loss:     2.2924 Validation Accuracy: 0.207400\n",
      "Epoch 40, CIFAR-10 Batch 1:  Loss:     2.2417 Validation Accuracy: 0.205200\n",
      "Epoch 41, CIFAR-10 Batch 1:  Loss:     2.2500 Validation Accuracy: 0.208800\n",
      "Epoch 42, CIFAR-10 Batch 1:  Loss:     2.2438 Validation Accuracy: 0.222200\n",
      "Epoch 43, CIFAR-10 Batch 1:  Loss:     2.2545 Validation Accuracy: 0.165600\n",
      "Epoch 44, CIFAR-10 Batch 1:  Loss:     2.2516 Validation Accuracy: 0.210400\n",
      "Epoch 45, CIFAR-10 Batch 1:  Loss:     2.2246 Validation Accuracy: 0.225000\n",
      "Epoch 46, CIFAR-10 Batch 1:  Loss:     2.2391 Validation Accuracy: 0.204400\n",
      "Epoch 47, CIFAR-10 Batch 1:  Loss:     2.2433 Validation Accuracy: 0.211400\n",
      "Epoch 48, CIFAR-10 Batch 1:  Loss:     2.3060 Validation Accuracy: 0.223800\n",
      "Epoch 49, CIFAR-10 Batch 1:  Loss:     2.2698 Validation Accuracy: 0.224400\n",
      "Epoch 50, CIFAR-10 Batch 1:  Loss:     2.2544 Validation Accuracy: 0.202600\n"
     ]
    }
   ],
   "source": [
    "\"\"\"\n",
    "DON'T MODIFY ANYTHING IN THIS CELL\n",
    "\"\"\"\n",
    "print('Checking the Training on a Single Batch...')\n",
    "with tf.Session() as sess:\n",
    "    # Initializing the variables\n",
    "    sess.run(tf.global_variables_initializer())\n",
    "    \n",
    "    # Training cycle\n",
    "    for epoch in range(epochs):\n",
    "        batch_i = 1\n",
    "        for batch_features, batch_labels in helper.load_preprocess_training_batch(batch_i, batch_size):\n",
    "            train_neural_network(sess, optimizer, keep_probability, batch_features, batch_labels)\n",
    "        print('Epoch {:>2}, CIFAR-10 Batch {}:  '.format(epoch + 1, batch_i), end='')\n",
    "        print_stats(sess, batch_features, batch_labels, cost, accuracy)"
   ]
  },
  {
   "cell_type": "markdown",
   "metadata": {
    "deletable": true,
    "editable": true
   },
   "source": [
    "### Fully Train the Model\n",
    "Now that you got a good accuracy with a single CIFAR-10 batch, try it with all five batches."
   ]
  },
  {
   "cell_type": "code",
   "execution_count": 208,
   "metadata": {
    "collapsed": false,
    "deletable": true,
    "editable": true
   },
   "outputs": [
    {
     "name": "stdout",
     "output_type": "stream",
     "text": [
      "Training...\n",
      "Epoch  1, CIFAR-10 Batch 1:  Loss:     2.5523 Validation Accuracy: 0.099400\n",
      "Epoch  1, CIFAR-10 Batch 2:  Loss:     2.2689 Validation Accuracy: 0.162000\n",
      "Epoch  1, CIFAR-10 Batch 3:  Loss:     2.2628 Validation Accuracy: 0.146600\n",
      "Epoch  1, CIFAR-10 Batch 4:  Loss:     2.2690 Validation Accuracy: 0.168400\n",
      "Epoch  1, CIFAR-10 Batch 5:  Loss:     2.3062 Validation Accuracy: 0.143400\n",
      "Epoch  2, CIFAR-10 Batch 1:  Loss:     2.2689 Validation Accuracy: 0.142600\n",
      "Epoch  2, CIFAR-10 Batch 2:  Loss:     2.3316 Validation Accuracy: 0.130400\n",
      "Epoch  2, CIFAR-10 Batch 3:  Loss:     2.1472 Validation Accuracy: 0.134400\n",
      "Epoch  2, CIFAR-10 Batch 4:  Loss:     2.2878 Validation Accuracy: 0.147800\n",
      "Epoch  2, CIFAR-10 Batch 5:  Loss:     2.2697 Validation Accuracy: 0.162800\n",
      "Epoch  3, CIFAR-10 Batch 1:  Loss:     2.3166 Validation Accuracy: 0.128200\n",
      "Epoch  3, CIFAR-10 Batch 2:  Loss:     2.2615 Validation Accuracy: 0.184800\n",
      "Epoch  3, CIFAR-10 Batch 3:  Loss:     2.1715 Validation Accuracy: 0.161800\n",
      "Epoch  3, CIFAR-10 Batch 4:  Loss:     2.1982 Validation Accuracy: 0.178400\n",
      "Epoch  3, CIFAR-10 Batch 5:  Loss:     2.2534 Validation Accuracy: 0.159200\n",
      "Epoch  4, CIFAR-10 Batch 1:  Loss:     2.3408 Validation Accuracy: 0.163400\n",
      "Epoch  4, CIFAR-10 Batch 2:  Loss:     2.1946 Validation Accuracy: 0.181600\n",
      "Epoch  4, CIFAR-10 Batch 3:  Loss:     2.1311 Validation Accuracy: 0.180600\n",
      "Epoch  4, CIFAR-10 Batch 4:  Loss:     2.2201 Validation Accuracy: 0.179200\n",
      "Epoch  4, CIFAR-10 Batch 5:  Loss:     2.2410 Validation Accuracy: 0.169600\n",
      "Epoch  5, CIFAR-10 Batch 1:  Loss:     2.2957 Validation Accuracy: 0.187200\n",
      "Epoch  5, CIFAR-10 Batch 2:  Loss:     2.2276 Validation Accuracy: 0.190600\n",
      "Epoch  5, CIFAR-10 Batch 3:  Loss:     2.1710 Validation Accuracy: 0.185200\n",
      "Epoch  5, CIFAR-10 Batch 4:  Loss:     2.1503 Validation Accuracy: 0.188600\n",
      "Epoch  5, CIFAR-10 Batch 5:  Loss:     2.2714 Validation Accuracy: 0.161800\n",
      "Epoch  6, CIFAR-10 Batch 1:  Loss:     2.3105 Validation Accuracy: 0.199600\n",
      "Epoch  6, CIFAR-10 Batch 2:  Loss:     2.2209 Validation Accuracy: 0.182200\n",
      "Epoch  6, CIFAR-10 Batch 3:  Loss:     2.1689 Validation Accuracy: 0.171400\n",
      "Epoch  6, CIFAR-10 Batch 4:  Loss:     2.2109 Validation Accuracy: 0.184000\n",
      "Epoch  6, CIFAR-10 Batch 5:  Loss:     2.2516 Validation Accuracy: 0.190200\n",
      "Epoch  7, CIFAR-10 Batch 1:  Loss:     2.2831 Validation Accuracy: 0.213800\n",
      "Epoch  7, CIFAR-10 Batch 2:  Loss:     2.2876 Validation Accuracy: 0.206600\n",
      "Epoch  7, CIFAR-10 Batch 3:  Loss:     2.1306 Validation Accuracy: 0.194200\n",
      "Epoch  7, CIFAR-10 Batch 4:  Loss:     2.1675 Validation Accuracy: 0.203200\n",
      "Epoch  7, CIFAR-10 Batch 5:  Loss:     2.2218 Validation Accuracy: 0.189200\n",
      "Epoch  8, CIFAR-10 Batch 1:  Loss:     2.3199 Validation Accuracy: 0.207000\n",
      "Epoch  8, CIFAR-10 Batch 2:  Loss:     2.1921 Validation Accuracy: 0.165800\n",
      "Epoch  8, CIFAR-10 Batch 3:  Loss:     2.1931 Validation Accuracy: 0.194800\n",
      "Epoch  8, CIFAR-10 Batch 4:  Loss:     2.1363 Validation Accuracy: 0.225000\n",
      "Epoch  8, CIFAR-10 Batch 5:  Loss:     2.1899 Validation Accuracy: 0.198400\n",
      "Epoch  9, CIFAR-10 Batch 1:  Loss:     2.3168 Validation Accuracy: 0.196400\n",
      "Epoch  9, CIFAR-10 Batch 2:  Loss:     2.1497 Validation Accuracy: 0.223000\n",
      "Epoch  9, CIFAR-10 Batch 3:  Loss:     2.1715 Validation Accuracy: 0.211800\n",
      "Epoch  9, CIFAR-10 Batch 4:  Loss:     2.0980 Validation Accuracy: 0.177600\n",
      "Epoch  9, CIFAR-10 Batch 5:  Loss:     2.2067 Validation Accuracy: 0.210200\n",
      "Epoch 10, CIFAR-10 Batch 1:  Loss:     2.3605 Validation Accuracy: 0.204400\n",
      "Epoch 10, CIFAR-10 Batch 2:  Loss:     2.2065 Validation Accuracy: 0.218000\n",
      "Epoch 10, CIFAR-10 Batch 3:  Loss:     2.1366 Validation Accuracy: 0.221800\n",
      "Epoch 10, CIFAR-10 Batch 4:  Loss:     2.1256 Validation Accuracy: 0.183600\n",
      "Epoch 10, CIFAR-10 Batch 5:  Loss:     2.2021 Validation Accuracy: 0.213000\n",
      "Epoch 11, CIFAR-10 Batch 1:  Loss:     2.3540 Validation Accuracy: 0.218000\n",
      "Epoch 11, CIFAR-10 Batch 2:  Loss:     2.1485 Validation Accuracy: 0.225200\n",
      "Epoch 11, CIFAR-10 Batch 3:  Loss:     2.0981 Validation Accuracy: 0.193600\n",
      "Epoch 11, CIFAR-10 Batch 4:  Loss:     2.0895 Validation Accuracy: 0.231200\n",
      "Epoch 11, CIFAR-10 Batch 5:  Loss:     2.1877 Validation Accuracy: 0.193200\n",
      "Epoch 12, CIFAR-10 Batch 1:  Loss:     2.2543 Validation Accuracy: 0.207000\n",
      "Epoch 12, CIFAR-10 Batch 2:  Loss:     2.1672 Validation Accuracy: 0.213200\n",
      "Epoch 12, CIFAR-10 Batch 3:  Loss:     2.1712 Validation Accuracy: 0.217200\n",
      "Epoch 12, CIFAR-10 Batch 4:  Loss:     2.1550 Validation Accuracy: 0.211800\n",
      "Epoch 12, CIFAR-10 Batch 5:  Loss:     2.2167 Validation Accuracy: 0.203200\n",
      "Epoch 13, CIFAR-10 Batch 1:  Loss:     2.3330 Validation Accuracy: 0.208000\n",
      "Epoch 13, CIFAR-10 Batch 2:  Loss:     2.1356 Validation Accuracy: 0.212800\n",
      "Epoch 13, CIFAR-10 Batch 3:  Loss:     2.1553 Validation Accuracy: 0.224200\n",
      "Epoch 13, CIFAR-10 Batch 4:  Loss:     2.0817 Validation Accuracy: 0.207000\n",
      "Epoch 13, CIFAR-10 Batch 5:  Loss:     2.1886 Validation Accuracy: 0.233600\n",
      "Epoch 14, CIFAR-10 Batch 1:  Loss:     2.2581 Validation Accuracy: 0.224600\n",
      "Epoch 14, CIFAR-10 Batch 2:  Loss:     2.2332 Validation Accuracy: 0.221800\n",
      "Epoch 14, CIFAR-10 Batch 3:  Loss:     2.1121 Validation Accuracy: 0.208400\n",
      "Epoch 14, CIFAR-10 Batch 4:  Loss:     2.0634 Validation Accuracy: 0.214000\n",
      "Epoch 14, CIFAR-10 Batch 5:  Loss:     2.2063 Validation Accuracy: 0.232600\n",
      "Epoch 15, CIFAR-10 Batch 1:  Loss:     2.3001 Validation Accuracy: 0.227600\n",
      "Epoch 15, CIFAR-10 Batch 2:  Loss:     2.1403 Validation Accuracy: 0.219400\n",
      "Epoch 15, CIFAR-10 Batch 3:  Loss:     2.0840 Validation Accuracy: 0.216000\n",
      "Epoch 15, CIFAR-10 Batch 4:  Loss:     2.1967 Validation Accuracy: 0.223800\n",
      "Epoch 15, CIFAR-10 Batch 5:  Loss:     2.2196 Validation Accuracy: 0.231200\n",
      "Epoch 16, CIFAR-10 Batch 1:  Loss:     2.2154 Validation Accuracy: 0.228600\n",
      "Epoch 16, CIFAR-10 Batch 2:  Loss:     2.1298 Validation Accuracy: 0.242400\n",
      "Epoch 16, CIFAR-10 Batch 3:  Loss:     2.1266 Validation Accuracy: 0.233600\n",
      "Epoch 16, CIFAR-10 Batch 4:  Loss:     2.0822 Validation Accuracy: 0.216800\n",
      "Epoch 16, CIFAR-10 Batch 5:  Loss:     2.3344 Validation Accuracy: 0.228200\n",
      "Epoch 17, CIFAR-10 Batch 1:  Loss:     2.2600 Validation Accuracy: 0.254200\n",
      "Epoch 17, CIFAR-10 Batch 2:  Loss:     2.1272 Validation Accuracy: 0.224000\n",
      "Epoch 17, CIFAR-10 Batch 3:  Loss:     2.1958 Validation Accuracy: 0.221000\n",
      "Epoch 17, CIFAR-10 Batch 4:  Loss:     2.1115 Validation Accuracy: 0.212800\n",
      "Epoch 17, CIFAR-10 Batch 5:  Loss:     2.1828 Validation Accuracy: 0.229000\n",
      "Epoch 18, CIFAR-10 Batch 1:  Loss:     2.3164 Validation Accuracy: 0.236000\n",
      "Epoch 18, CIFAR-10 Batch 2:  Loss:     2.1133 Validation Accuracy: 0.222800\n",
      "Epoch 18, CIFAR-10 Batch 3:  Loss:     2.1170 Validation Accuracy: 0.186600\n",
      "Epoch 18, CIFAR-10 Batch 4:  Loss:     2.2162 Validation Accuracy: 0.230200\n",
      "Epoch 18, CIFAR-10 Batch 5:  Loss:     2.2389 Validation Accuracy: 0.229600\n",
      "Epoch 19, CIFAR-10 Batch 1:  Loss:     2.2442 Validation Accuracy: 0.250000\n",
      "Epoch 19, CIFAR-10 Batch 2:  Loss:     2.1698 Validation Accuracy: 0.217200\n",
      "Epoch 19, CIFAR-10 Batch 3:  Loss:     2.0966 Validation Accuracy: 0.239400\n",
      "Epoch 19, CIFAR-10 Batch 4:  Loss:     2.0910 Validation Accuracy: 0.235600\n",
      "Epoch 19, CIFAR-10 Batch 5:  Loss:     2.2828 Validation Accuracy: 0.231000\n",
      "Epoch 20, CIFAR-10 Batch 1:  Loss:     2.2204 Validation Accuracy: 0.222200\n",
      "Epoch 20, CIFAR-10 Batch 2:  Loss:     2.1470 Validation Accuracy: 0.198200\n",
      "Epoch 20, CIFAR-10 Batch 3:  Loss:     2.1129 Validation Accuracy: 0.226400\n",
      "Epoch 20, CIFAR-10 Batch 4:  Loss:     2.1244 Validation Accuracy: 0.228000\n",
      "Epoch 20, CIFAR-10 Batch 5:  Loss:     2.2706 Validation Accuracy: 0.220600\n",
      "Epoch 21, CIFAR-10 Batch 1:  Loss:     2.2337 Validation Accuracy: 0.239000\n",
      "Epoch 21, CIFAR-10 Batch 2:  Loss:     2.1969 Validation Accuracy: 0.243600\n",
      "Epoch 21, CIFAR-10 Batch 3:  Loss:     2.1269 Validation Accuracy: 0.237200\n",
      "Epoch 21, CIFAR-10 Batch 4:  Loss:     2.1591 Validation Accuracy: 0.213200\n",
      "Epoch 21, CIFAR-10 Batch 5:  Loss:     2.1943 Validation Accuracy: 0.222000\n",
      "Epoch 22, CIFAR-10 Batch 1:  Loss:     2.1749 Validation Accuracy: 0.221000\n",
      "Epoch 22, CIFAR-10 Batch 2:  Loss:     2.1561 Validation Accuracy: 0.238000\n",
      "Epoch 22, CIFAR-10 Batch 3:  Loss:     2.1413 Validation Accuracy: 0.205400\n",
      "Epoch 22, CIFAR-10 Batch 4:  Loss:     2.1007 Validation Accuracy: 0.234200\n",
      "Epoch 22, CIFAR-10 Batch 5:  Loss:     2.2656 Validation Accuracy: 0.228400\n",
      "Epoch 23, CIFAR-10 Batch 1:  Loss:     2.1793 Validation Accuracy: 0.243800\n",
      "Epoch 23, CIFAR-10 Batch 2:  Loss:     2.1081 Validation Accuracy: 0.195800\n",
      "Epoch 23, CIFAR-10 Batch 3:  Loss:     2.0538 Validation Accuracy: 0.219000\n",
      "Epoch 23, CIFAR-10 Batch 4:  Loss:     2.1246 Validation Accuracy: 0.233000\n",
      "Epoch 23, CIFAR-10 Batch 5:  Loss:     2.1671 Validation Accuracy: 0.232800\n",
      "Epoch 24, CIFAR-10 Batch 1:  Loss:     2.3015 Validation Accuracy: 0.236800\n",
      "Epoch 24, CIFAR-10 Batch 2:  Loss:     2.2211 Validation Accuracy: 0.211600\n",
      "Epoch 24, CIFAR-10 Batch 3:  Loss:     2.1945 Validation Accuracy: 0.246200\n",
      "Epoch 24, CIFAR-10 Batch 4:  Loss:     2.1275 Validation Accuracy: 0.248800\n",
      "Epoch 24, CIFAR-10 Batch 5:  Loss:     2.2108 Validation Accuracy: 0.214400\n",
      "Epoch 25, CIFAR-10 Batch 1:  Loss:     2.1937 Validation Accuracy: 0.242800\n",
      "Epoch 25, CIFAR-10 Batch 2:  Loss:     2.1402 Validation Accuracy: 0.233200\n",
      "Epoch 25, CIFAR-10 Batch 3:  Loss:     2.1363 Validation Accuracy: 0.255000\n",
      "Epoch 25, CIFAR-10 Batch 4:  Loss:     2.0941 Validation Accuracy: 0.247400\n",
      "Epoch 25, CIFAR-10 Batch 5:  Loss:     2.2262 Validation Accuracy: 0.228000\n",
      "Epoch 26, CIFAR-10 Batch 1:  Loss:     2.1568 Validation Accuracy: 0.245400\n",
      "Epoch 26, CIFAR-10 Batch 2:  Loss:     2.1680 Validation Accuracy: 0.233800\n",
      "Epoch 26, CIFAR-10 Batch 3:  Loss:     2.1265 Validation Accuracy: 0.221000\n",
      "Epoch 26, CIFAR-10 Batch 4:  Loss:     2.1540 Validation Accuracy: 0.233600\n",
      "Epoch 26, CIFAR-10 Batch 5:  Loss:     2.1733 Validation Accuracy: 0.228200\n",
      "Epoch 27, CIFAR-10 Batch 1:  Loss:     2.3317 Validation Accuracy: 0.230000\n",
      "Epoch 27, CIFAR-10 Batch 2:  Loss:     2.1647 Validation Accuracy: 0.232600\n",
      "Epoch 27, CIFAR-10 Batch 3:  Loss:     2.0586 Validation Accuracy: 0.218600\n",
      "Epoch 27, CIFAR-10 Batch 4:  Loss:     2.0875 Validation Accuracy: 0.230200\n",
      "Epoch 27, CIFAR-10 Batch 5:  Loss:     2.1656 Validation Accuracy: 0.230600\n",
      "Epoch 28, CIFAR-10 Batch 1:  Loss:     2.2654 Validation Accuracy: 0.246400\n",
      "Epoch 28, CIFAR-10 Batch 2:  Loss:     2.1806 Validation Accuracy: 0.244800\n",
      "Epoch 28, CIFAR-10 Batch 3:  Loss:     2.1509 Validation Accuracy: 0.243600\n",
      "Epoch 28, CIFAR-10 Batch 4:  Loss:     2.1327 Validation Accuracy: 0.228400\n",
      "Epoch 28, CIFAR-10 Batch 5:  Loss:     2.1500 Validation Accuracy: 0.246000\n",
      "Epoch 29, CIFAR-10 Batch 1:  Loss:     2.2309 Validation Accuracy: 0.170400\n",
      "Epoch 29, CIFAR-10 Batch 2:  Loss:     2.0748 Validation Accuracy: 0.232600\n",
      "Epoch 29, CIFAR-10 Batch 3:  Loss:     2.1429 Validation Accuracy: 0.236400\n",
      "Epoch 29, CIFAR-10 Batch 4:  Loss:     2.0998 Validation Accuracy: 0.227600\n",
      "Epoch 29, CIFAR-10 Batch 5:  Loss:     2.2010 Validation Accuracy: 0.248200\n",
      "Epoch 30, CIFAR-10 Batch 1:  Loss:     2.2015 Validation Accuracy: 0.216200\n",
      "Epoch 30, CIFAR-10 Batch 2:  Loss:     2.1451 Validation Accuracy: 0.213600\n",
      "Epoch 30, CIFAR-10 Batch 3:  Loss:     2.0999 Validation Accuracy: 0.241200\n",
      "Epoch 30, CIFAR-10 Batch 4:  Loss:     2.0529 Validation Accuracy: 0.222400\n",
      "Epoch 30, CIFAR-10 Batch 5:  Loss:     2.2012 Validation Accuracy: 0.239800\n",
      "Epoch 31, CIFAR-10 Batch 1:  Loss:     2.1327 Validation Accuracy: 0.232000\n",
      "Epoch 31, CIFAR-10 Batch 2:  Loss:     2.0753 Validation Accuracy: 0.227000\n",
      "Epoch 31, CIFAR-10 Batch 3:  Loss:     2.1030 Validation Accuracy: 0.235600\n",
      "Epoch 31, CIFAR-10 Batch 4:  Loss:     2.1961 Validation Accuracy: 0.203600\n",
      "Epoch 31, CIFAR-10 Batch 5:  Loss:     2.2638 Validation Accuracy: 0.231200\n",
      "Epoch 32, CIFAR-10 Batch 1:  Loss:     2.1988 Validation Accuracy: 0.221200\n",
      "Epoch 32, CIFAR-10 Batch 2:  Loss:     2.0811 Validation Accuracy: 0.236200\n",
      "Epoch 32, CIFAR-10 Batch 3:  Loss:     2.2243 Validation Accuracy: 0.251600\n",
      "Epoch 32, CIFAR-10 Batch 4:  Loss:     2.0989 Validation Accuracy: 0.214600\n",
      "Epoch 32, CIFAR-10 Batch 5:  Loss:     2.1950 Validation Accuracy: 0.237000\n",
      "Epoch 33, CIFAR-10 Batch 1:  Loss:     2.2072 Validation Accuracy: 0.217400\n",
      "Epoch 33, CIFAR-10 Batch 2:  Loss:     2.1182 Validation Accuracy: 0.222800\n",
      "Epoch 33, CIFAR-10 Batch 3:  Loss:     2.0805 Validation Accuracy: 0.224800\n",
      "Epoch 33, CIFAR-10 Batch 4:  Loss:     2.0367 Validation Accuracy: 0.215000\n",
      "Epoch 33, CIFAR-10 Batch 5:  Loss:     2.1864 Validation Accuracy: 0.233000\n",
      "Epoch 34, CIFAR-10 Batch 1:  Loss:     2.1731 Validation Accuracy: 0.250400\n",
      "Epoch 34, CIFAR-10 Batch 2:  Loss:     2.1548 Validation Accuracy: 0.248800\n",
      "Epoch 34, CIFAR-10 Batch 3:  Loss:     2.1082 Validation Accuracy: 0.237000\n",
      "Epoch 34, CIFAR-10 Batch 4:  Loss:     2.0985 Validation Accuracy: 0.224000\n",
      "Epoch 34, CIFAR-10 Batch 5:  Loss:     2.2756 Validation Accuracy: 0.222400\n",
      "Epoch 35, CIFAR-10 Batch 1:  Loss:     2.1844 Validation Accuracy: 0.221000\n",
      "Epoch 35, CIFAR-10 Batch 2:  Loss:     2.0886 Validation Accuracy: 0.228200\n",
      "Epoch 35, CIFAR-10 Batch 3:  Loss:     2.1800 Validation Accuracy: 0.224000\n",
      "Epoch 35, CIFAR-10 Batch 4:  Loss:     2.0916 Validation Accuracy: 0.248400\n",
      "Epoch 35, CIFAR-10 Batch 5:  Loss:     2.2304 Validation Accuracy: 0.222200\n",
      "Epoch 36, CIFAR-10 Batch 1:  Loss:     2.1514 Validation Accuracy: 0.239000\n",
      "Epoch 36, CIFAR-10 Batch 2:  Loss:     2.0703 Validation Accuracy: 0.253000\n",
      "Epoch 36, CIFAR-10 Batch 3:  Loss:     2.1007 Validation Accuracy: 0.240000\n",
      "Epoch 36, CIFAR-10 Batch 4:  Loss:     2.0898 Validation Accuracy: 0.238800\n",
      "Epoch 36, CIFAR-10 Batch 5:  Loss:     2.1587 Validation Accuracy: 0.236200\n",
      "Epoch 37, CIFAR-10 Batch 1:  Loss:     2.2428 Validation Accuracy: 0.245800\n",
      "Epoch 37, CIFAR-10 Batch 2:  Loss:     2.0979 Validation Accuracy: 0.239600\n",
      "Epoch 37, CIFAR-10 Batch 3:  Loss:     2.0625 Validation Accuracy: 0.235000\n",
      "Epoch 37, CIFAR-10 Batch 4:  Loss:     2.0921 Validation Accuracy: 0.243200\n",
      "Epoch 37, CIFAR-10 Batch 5:  Loss:     2.2131 Validation Accuracy: 0.234800\n",
      "Epoch 38, CIFAR-10 Batch 1:  Loss:     2.1827 Validation Accuracy: 0.255200\n",
      "Epoch 38, CIFAR-10 Batch 2:  Loss:     2.1415 Validation Accuracy: 0.248600\n",
      "Epoch 38, CIFAR-10 Batch 3:  Loss:     2.0618 Validation Accuracy: 0.245800\n",
      "Epoch 38, CIFAR-10 Batch 4:  Loss:     2.0978 Validation Accuracy: 0.257400\n",
      "Epoch 38, CIFAR-10 Batch 5:  Loss:     2.2890 Validation Accuracy: 0.212200\n",
      "Epoch 39, CIFAR-10 Batch 1:  Loss:     2.1996 Validation Accuracy: 0.243400\n",
      "Epoch 39, CIFAR-10 Batch 2:  Loss:     2.1183 Validation Accuracy: 0.227200\n",
      "Epoch 39, CIFAR-10 Batch 3:  Loss:     2.1151 Validation Accuracy: 0.256600\n",
      "Epoch 39, CIFAR-10 Batch 4:  Loss:     2.1216 Validation Accuracy: 0.248200\n",
      "Epoch 39, CIFAR-10 Batch 5:  Loss:     2.2113 Validation Accuracy: 0.229200\n",
      "Epoch 40, CIFAR-10 Batch 1:  Loss:     2.2080 Validation Accuracy: 0.253400\n",
      "Epoch 40, CIFAR-10 Batch 2:  Loss:     2.1769 Validation Accuracy: 0.222400\n",
      "Epoch 40, CIFAR-10 Batch 3:  Loss:     2.1548 Validation Accuracy: 0.232800\n",
      "Epoch 40, CIFAR-10 Batch 4:  Loss:     2.0571 Validation Accuracy: 0.220800\n",
      "Epoch 40, CIFAR-10 Batch 5:  Loss:     2.1572 Validation Accuracy: 0.251800\n",
      "Epoch 41, CIFAR-10 Batch 1:  Loss:     2.1858 Validation Accuracy: 0.231200\n",
      "Epoch 41, CIFAR-10 Batch 2:  Loss:     2.0744 Validation Accuracy: 0.263200\n",
      "Epoch 41, CIFAR-10 Batch 3:  Loss:     2.0443 Validation Accuracy: 0.252600\n",
      "Epoch 41, CIFAR-10 Batch 4:  Loss:     2.0559 Validation Accuracy: 0.226800\n",
      "Epoch 41, CIFAR-10 Batch 5:  Loss:     2.1483 Validation Accuracy: 0.211000\n",
      "Epoch 42, CIFAR-10 Batch 1:  Loss:     2.2076 Validation Accuracy: 0.251000\n",
      "Epoch 42, CIFAR-10 Batch 2:  Loss:     2.3241 Validation Accuracy: 0.234200\n",
      "Epoch 42, CIFAR-10 Batch 3:  Loss:     2.0822 Validation Accuracy: 0.233400\n",
      "Epoch 42, CIFAR-10 Batch 4:  Loss:     2.1001 Validation Accuracy: 0.248800\n",
      "Epoch 42, CIFAR-10 Batch 5:  Loss:     2.1545 Validation Accuracy: 0.220400\n",
      "Epoch 43, CIFAR-10 Batch 1:  Loss:     2.1897 Validation Accuracy: 0.222400\n",
      "Epoch 43, CIFAR-10 Batch 2:  Loss:     2.2136 Validation Accuracy: 0.230000\n",
      "Epoch 43, CIFAR-10 Batch 3:  Loss:     2.0784 Validation Accuracy: 0.229200\n",
      "Epoch 43, CIFAR-10 Batch 4:  Loss:     2.0503 Validation Accuracy: 0.244000\n",
      "Epoch 43, CIFAR-10 Batch 5:  Loss:     2.1391 Validation Accuracy: 0.209800\n",
      "Epoch 44, CIFAR-10 Batch 1:  Loss:     2.1726 Validation Accuracy: 0.255200\n",
      "Epoch 44, CIFAR-10 Batch 2:  Loss:     2.1556 Validation Accuracy: 0.224800\n",
      "Epoch 44, CIFAR-10 Batch 3:  Loss:     2.1329 Validation Accuracy: 0.226200\n",
      "Epoch 44, CIFAR-10 Batch 4:  Loss:     2.1051 Validation Accuracy: 0.254200\n",
      "Epoch 44, CIFAR-10 Batch 5:  Loss:     2.2570 Validation Accuracy: 0.255600\n",
      "Epoch 45, CIFAR-10 Batch 1:  Loss:     2.1932 Validation Accuracy: 0.239800\n",
      "Epoch 45, CIFAR-10 Batch 2:  Loss:     2.1389 Validation Accuracy: 0.237800\n",
      "Epoch 45, CIFAR-10 Batch 3:  Loss:     2.1029 Validation Accuracy: 0.185600\n",
      "Epoch 45, CIFAR-10 Batch 4:  Loss:     2.0685 Validation Accuracy: 0.237200\n",
      "Epoch 45, CIFAR-10 Batch 5:  Loss:     2.1746 Validation Accuracy: 0.231600\n",
      "Epoch 46, CIFAR-10 Batch 1:  Loss:     2.2046 Validation Accuracy: 0.233400\n",
      "Epoch 46, CIFAR-10 Batch 2:  Loss:     2.0923 Validation Accuracy: 0.260600\n",
      "Epoch 46, CIFAR-10 Batch 3:  Loss:     2.1320 Validation Accuracy: 0.249000\n",
      "Epoch 46, CIFAR-10 Batch 4:  Loss:     2.1091 Validation Accuracy: 0.231200\n",
      "Epoch 46, CIFAR-10 Batch 5:  Loss:     2.1461 Validation Accuracy: 0.232800\n",
      "Epoch 47, CIFAR-10 Batch 1:  Loss:     2.1605 Validation Accuracy: 0.248400\n",
      "Epoch 47, CIFAR-10 Batch 2:  Loss:     2.1001 Validation Accuracy: 0.258000\n",
      "Epoch 47, CIFAR-10 Batch 3:  Loss:     2.0741 Validation Accuracy: 0.260200\n",
      "Epoch 47, CIFAR-10 Batch 4:  Loss:     2.0150 Validation Accuracy: 0.228400\n",
      "Epoch 47, CIFAR-10 Batch 5:  Loss:     2.2029 Validation Accuracy: 0.246400\n",
      "Epoch 48, CIFAR-10 Batch 1:  Loss:     2.1569 Validation Accuracy: 0.250800\n",
      "Epoch 48, CIFAR-10 Batch 2:  Loss:     2.1358 Validation Accuracy: 0.240200\n",
      "Epoch 48, CIFAR-10 Batch 3:  Loss:     2.0832 Validation Accuracy: 0.233400\n",
      "Epoch 48, CIFAR-10 Batch 4:  Loss:     2.0607 Validation Accuracy: 0.230400\n",
      "Epoch 48, CIFAR-10 Batch 5:  Loss:     2.1743 Validation Accuracy: 0.202400\n",
      "Epoch 49, CIFAR-10 Batch 1:  Loss:     2.2703 Validation Accuracy: 0.216200\n",
      "Epoch 49, CIFAR-10 Batch 2:  Loss:     2.1189 Validation Accuracy: 0.225000\n",
      "Epoch 49, CIFAR-10 Batch 3:  Loss:     2.0836 Validation Accuracy: 0.240600\n",
      "Epoch 49, CIFAR-10 Batch 4:  Loss:     2.1652 Validation Accuracy: 0.235200\n",
      "Epoch 49, CIFAR-10 Batch 5:  Loss:     2.1750 Validation Accuracy: 0.223800\n",
      "Epoch 50, CIFAR-10 Batch 1:  Loss:     2.2078 Validation Accuracy: 0.231000\n",
      "Epoch 50, CIFAR-10 Batch 2:  Loss:     2.0354 Validation Accuracy: 0.245400\n",
      "Epoch 50, CIFAR-10 Batch 3:  Loss:     2.1379 Validation Accuracy: 0.225800\n",
      "Epoch 50, CIFAR-10 Batch 4:  Loss:     2.0754 Validation Accuracy: 0.245200\n",
      "Epoch 50, CIFAR-10 Batch 5:  Loss:     2.1376 Validation Accuracy: 0.256600\n"
     ]
    }
   ],
   "source": [
    "\"\"\"\n",
    "DON'T MODIFY ANYTHING IN THIS CELL\n",
    "\"\"\"\n",
    "save_model_path = './image_classification'\n",
    "\n",
    "print('Training...')\n",
    "with tf.Session() as sess:\n",
    "    # Initializing the variables\n",
    "    sess.run(tf.global_variables_initializer())\n",
    "    \n",
    "    # Training cycle\n",
    "    for epoch in range(epochs):\n",
    "        # Loop over all batches\n",
    "        n_batches = 5\n",
    "        for batch_i in range(1, n_batches + 1):\n",
    "            for batch_features, batch_labels in helper.load_preprocess_training_batch(batch_i, batch_size):\n",
    "                train_neural_network(sess, optimizer, keep_probability, batch_features, batch_labels)\n",
    "            print('Epoch {:>2}, CIFAR-10 Batch {}:  '.format(epoch + 1, batch_i), end='')\n",
    "            print_stats(sess, batch_features, batch_labels, cost, accuracy)\n",
    "            \n",
    "    # Save Model\n",
    "    saver = tf.train.Saver()\n",
    "    save_path = saver.save(sess, save_model_path)"
   ]
  },
  {
   "cell_type": "markdown",
   "metadata": {
    "deletable": true,
    "editable": true
   },
   "source": [
    "# Checkpoint\n",
    "The model has been saved to disk.\n",
    "## Test Model\n",
    "Test your model against the test dataset.  This will be your final accuracy. You should have an accuracy greater than 50%. If you don't, keep tweaking the model architecture and parameters."
   ]
  },
  {
   "cell_type": "code",
   "execution_count": 209,
   "metadata": {
    "collapsed": false,
    "deletable": true,
    "editable": true
   },
   "outputs": [
    {
     "name": "stdout",
     "output_type": "stream",
     "text": [
      "Testing Accuracy: 0.2607792721518987\n",
      "\n"
     ]
    },
    {
     "data": {
      "image/png": "[encoded data removed]",
      "text/plain": [
       "<matplotlib.figure.Figure at 0x7f767800b748>"
      ]
     },
     "metadata": {
      "image/png": {
       "height": 319,
       "width": 355
      }
     },
     "output_type": "display_data"
    }
   ],
   "source": [
    "\"\"\"\n",
    "DON'T MODIFY ANYTHING IN THIS CELL\n",
    "\"\"\"\n",
    "%matplotlib inline\n",
    "%config InlineBackend.figure_format = 'retina'\n",
    "\n",
    "import tensorflow as tf\n",
    "import pickle\n",
    "import helper\n",
    "import random\n",
    "\n",
    "# Set batch size if not already set\n",
    "try:\n",
    "    if batch_size:\n",
    "        pass\n",
    "except NameError:\n",
    "    batch_size = 64\n",
    "\n",
    "save_model_path = './image_classification'\n",
    "n_samples = 4\n",
    "top_n_predictions = 3\n",
    "\n",
    "def test_model():\n",
    "    \"\"\"\n",
    "    Test the saved model against the test dataset\n",
    "    \"\"\"\n",
    "\n",
    "    test_features, test_labels = pickle.load(open('preprocess_training.p', mode='rb'))\n",
    "    loaded_graph = tf.Graph()\n",
    "\n",
    "    with tf.Session(graph=loaded_graph) as sess:\n",
    "        # Load model\n",
    "        loader = tf.train.import_meta_graph(save_model_path + '.meta')\n",
    "        loader.restore(sess, save_model_path)\n",
    "\n",
    "        # Get Tensors from loaded model\n",
    "        loaded_x = loaded_graph.get_tensor_by_name('x:0')\n",
    "        loaded_y = loaded_graph.get_tensor_by_name('y:0')\n",
    "        loaded_keep_prob = loaded_graph.get_tensor_by_name('keep_prob:0')\n",
    "        loaded_logits = loaded_graph.get_tensor_by_name('logits:0')\n",
    "        loaded_acc = loaded_graph.get_tensor_by_name('accuracy:0')\n",
    "        \n",
    "        # Get accuracy in batches for memory limitations\n",
    "        test_batch_acc_total = 0\n",
    "        test_batch_count = 0\n",
    "        \n",
    "        for train_feature_batch, train_label_batch in helper.batch_features_labels(test_features, test_labels, batch_size):\n",
    "            test_batch_acc_total += sess.run(\n",
    "                loaded_acc,\n",
    "                feed_dict={loaded_x: train_feature_batch, loaded_y: train_label_batch, loaded_keep_prob: 1.0})\n",
    "            test_batch_count += 1\n",
    "\n",
    "        print('Testing Accuracy: {}\\n'.format(test_batch_acc_total/test_batch_count))\n",
    "\n",
    "        # Print Random Samples\n",
    "        random_test_features, random_test_labels = tuple(zip(*random.sample(list(zip(test_features, test_labels)), n_samples)))\n",
    "        random_test_predictions = sess.run(\n",
    "            tf.nn.top_k(tf.nn.softmax(loaded_logits), top_n_predictions),\n",
    "            feed_dict={loaded_x: random_test_features, loaded_y: random_test_labels, loaded_keep_prob: 1.0})\n",
    "        helper.display_image_predictions(random_test_features, random_test_labels, random_test_predictions)\n",
    "\n",
    "\n",
    "test_model()"
   ]
  },
  {
   "cell_type": "markdown",
   "metadata": {
    "deletable": true,
    "editable": true
   },
   "source": [
    "## Why 50-80% Accuracy?\n",
    "You might be wondering why you can't get an accuracy any higher. First things first, 50% isn't bad for a simple CNN.  Pure guessing would get you 10% accuracy. However, you might notice people are getting scores [well above 80%](http://rodrigob.github.io/are_we_there_yet/build/classification_datasets_results.html#43494641522d3130).  That's because we haven't taught you all there is to know about neural networks. We still need to cover a few more techniques.\n",
    "## Submitting This Project\n",
    "When submitting this project, make sure to run all the cells before saving the notebook.  Save the notebook file as \"dlnd_image_classification.ipynb\" and save it as a HTML file under \"File\" -> \"Download as\".  Include the \"helper.py\" and \"problem_unittests.py\" files in your submission."
   ]
  }
 ],
 "metadata": {
  "kernelspec": {
   "display_name": "Python 3",
   "language": "python",
   "name": "python3"
  },
  "language_info": {
   "codemirror_mode": {
    "name": "ipython",
    "version": 3
   },
   "file_extension": ".py",
   "mimetype": "text/x-python",
   "name": "python",
   "nbconvert_exporter": "python",
   "pygments_lexer": "ipython3",
   "version": "3.5.2"
  },
  "widgets": {
   "state": {},
   "version": "1.1.2"
  }
 },
 "nbformat": 4,
 "nbformat_minor": 0
}
