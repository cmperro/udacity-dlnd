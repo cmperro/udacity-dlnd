{
 "cells": [
  {
   "cell_type": "markdown",
   "metadata": {
    "collapsed": true,
    "deletable": true,
    "editable": true
   },
   "source": [
    "# Image Classification\n",
    "In this project, you'll classify images from the [CIFAR-10 dataset](https://www.cs.toronto.edu/~kriz/cifar.html).  The dataset consists of airplanes, dogs, cats, and other objects. You'll preprocess the images, then train a convolutional neural network on all the samples. The images need to be normalized and the labels need to be one-hot encoded.  You'll get to apply what you learned and build a convolutional, max pooling, dropout, and fully connected layers.  At the end, you'll get to see your neural network's predictions on the sample images.\n",
    "## Get the Data\n",
    "Run the following cell to download the [CIFAR-10 dataset for python](https://www.cs.toronto.edu/~kriz/cifar-10-python.tar.gz)."
   ]
  },
  {
   "cell_type": "code",
   "execution_count": 1,
   "metadata": {
    "collapsed": false,
    "deletable": true,
    "editable": true
   },
   "outputs": [
    {
     "name": "stdout",
     "output_type": "stream",
     "text": [
      "All files found!\n"
     ]
    }
   ],
   "source": [
    "\"\"\"\n",
    "DON'T MODIFY ANYTHING IN THIS CELL THAT IS BELOW THIS LINE\n",
    "\"\"\"\n",
    "from urllib.request import urlretrieve\n",
    "from os.path import isfile, isdir\n",
    "from tqdm import tqdm\n",
    "import problem_unittests as tests\n",
    "import tarfile\n",
    "\n",
    "cifar10_dataset_folder_path = 'cifar-10-batches-py'\n",
    "\n",
    "class DLProgress(tqdm):\n",
    "    last_block = 0\n",
    "\n",
    "    def hook(self, block_num=1, block_size=1, total_size=None):\n",
    "        self.total = total_size\n",
    "        self.update((block_num - self.last_block) * block_size)\n",
    "        self.last_block = block_num\n",
    "\n",
    "if not isfile('cifar-10-python.tar.gz'):\n",
    "    with DLProgress(unit='B', unit_scale=True, miniters=1, desc='CIFAR-10 Dataset') as pbar:\n",
    "        urlretrieve(\n",
    "            'https://www.cs.toronto.edu/~kriz/cifar-10-python.tar.gz',\n",
    "            'cifar-10-python.tar.gz',\n",
    "            pbar.hook)\n",
    "\n",
    "if not isdir(cifar10_dataset_folder_path):\n",
    "    with tarfile.open('cifar-10-python.tar.gz') as tar:\n",
    "        tar.extractall()\n",
    "        tar.close()\n",
    "\n",
    "\n",
    "tests.test_folder_path(cifar10_dataset_folder_path)"
   ]
  },
  {
   "cell_type": "markdown",
   "metadata": {
    "deletable": true,
    "editable": true
   },
   "source": [
    "## Explore the Data\n",
    "The dataset is broken into batches to prevent your machine from running out of memory.  The CIFAR-10 dataset consists of 5 batches, named `data_batch_1`, `data_batch_2`, etc.. Each batch contains the labels and images that are one of the following:\n",
    "* airplane\n",
    "* automobile\n",
    "* bird\n",
    "* cat\n",
    "* deer\n",
    "* dog\n",
    "* frog\n",
    "* horse\n",
    "* ship\n",
    "* truck\n",
    "\n",
    "Understanding a dataset is part of making predictions on the data.  Play around with the code cell below by changing the `batch_id` and `sample_id`. The `batch_id` is the id for a batch (1-5). The `sample_id` is the id for a image and label pair in the batch.\n",
    "\n",
    "Ask yourself \"What are all possible labels?\", \"What is the range of values for the image data?\", \"Are the labels in order or random?\".  Answers to questions like these will help you preprocess the data and end up with better predictions."
   ]
  },
  {
   "cell_type": "code",
   "execution_count": 2,
   "metadata": {
    "collapsed": false,
    "deletable": true,
    "editable": true
   },
   "outputs": [
    {
     "name": "stdout",
     "output_type": "stream",
     "text": [
      "\n",
      "Stats of batch 3:\n",
      "Samples: 10000\n",
      "Label Counts: {0: 994, 1: 1042, 2: 965, 3: 997, 4: 990, 5: 1029, 6: 978, 7: 1015, 8: 961, 9: 1029}\n",
      "First 20 Labels: [8, 5, 0, 6, 9, 2, 8, 3, 6, 2, 7, 4, 6, 9, 0, 0, 7, 3, 7, 2]\n",
      "\n",
      "Example of Image 17:\n",
      "Image - Min Value: 9 Max Value: 229\n",
      "Image - Shape: (32, 32, 3)\n",
      "Label - Label Id: 3 Name: cat\n"
     ]
    },
    {
     "data": {
      "image/png": "[encoded data removed]",
      "text/plain": [
       "<matplotlib.figure.Figure at 0x7fd62c4da4e0>"
      ]
     },
     "metadata": {
      "image/png": {
       "height": 250,
       "width": 253
      }
     },
     "output_type": "display_data"
    }
   ],
   "source": [
    "%matplotlib inline\n",
    "%config InlineBackend.figure_format = 'retina'\n",
    "\n",
    "import helper\n",
    "import numpy as np\n",
    "\n",
    "# Explore the dataset\n",
    "batch_id = 3\n",
    "sample_id = 17\n",
    "helper.display_stats(cifar10_dataset_folder_path, batch_id, sample_id)"
   ]
  },
  {
   "cell_type": "markdown",
   "metadata": {
    "deletable": true,
    "editable": true
   },
   "source": [
    "## Implement Preprocess Functions\n",
    "### Normalize\n",
    "In the cell below, implement the `normalize` function to take in image data, `x`, and return it as a normalized Numpy array. The values should be in the range of 0 to 1, inclusive.  The return object should be the same shape as `x`."
   ]
  },
  {
   "cell_type": "code",
   "execution_count": 3,
   "metadata": {
    "collapsed": false,
    "deletable": true,
    "editable": true
   },
   "outputs": [
    {
     "name": "stdout",
     "output_type": "stream",
     "text": [
      "Tests Passed\n"
     ]
    }
   ],
   "source": [
    "def normalize(x):\n",
    "    \"\"\"\n",
    "    Normalize a list of sample image data in the range of 0 to 1\n",
    "    : x: List of image data.  The image shape is (32, 32, 3)\n",
    "    : return: Numpy array of normalize data\n",
    "    \"\"\"\n",
    "    # TODO: Implement Function\n",
    "    #a = 0.1\n",
    "    #b = 0.9\n",
    "    #min_val = 0\n",
    "    #max_val = 255\n",
    "    #return np.array(a + ( ( (x - min_val)*(b - a) )/( max_val - min_val ) ))\n",
    "    return np.array(x/255.)\n",
    "\n",
    "\n",
    "\"\"\"\n",
    "DON'T MODIFY ANYTHING IN THIS CELL THAT IS BELOW THIS LINE\n",
    "\"\"\"\n",
    "tests.test_normalize(normalize)"
   ]
  },
  {
   "cell_type": "markdown",
   "metadata": {
    "deletable": true,
    "editable": true
   },
   "source": [
    "### One-hot encode\n",
    "Just like the previous code cell, you'll be implementing a function for preprocessing.  This time, you'll implement the `one_hot_encode` function. The input, `x`, are a list of labels.  Implement the function to return the list of labels as One-Hot encoded Numpy array.  The possible values for labels are 0 to 9. The one-hot encoding function should return the same encoding for each value between each call to `one_hot_encode`.  Make sure to save the map of encodings outside the function.\n",
    "\n",
    "Hint: Don't reinvent the wheel."
   ]
  },
  {
   "cell_type": "code",
   "execution_count": 4,
   "metadata": {
    "collapsed": false,
    "deletable": true,
    "editable": true
   },
   "outputs": [
    {
     "name": "stdout",
     "output_type": "stream",
     "text": [
      "Tests Passed\n"
     ]
    }
   ],
   "source": [
    "from sklearn.preprocessing import LabelBinarizer\n",
    "y=np.array([0,1,2,3,4,5,6,7,8,9])\n",
    "def one_hot_encode(x):\n",
    "    \"\"\"\n",
    "    One hot encode a list of sample labels. Return a one-hot encoded vector for each label.\n",
    "    : x: List of sample Labels\n",
    "    : return: Numpy array of one-hot encoded labels\n",
    "    \"\"\"\n",
    "    # TODO: Implement Function\n",
    "    encoder = LabelBinarizer()\n",
    "    encoder.fit(y)\n",
    "    x = encoder.transform(x)\n",
    "    return x\n",
    "\n",
    "\n",
    "\"\"\"\n",
    "DON'T MODIFY ANYTHING IN THIS CELL THAT IS BELOW THIS LINE\n",
    "\"\"\"\n",
    "tests.test_one_hot_encode(one_hot_encode)"
   ]
  },
  {
   "cell_type": "markdown",
   "metadata": {
    "deletable": true,
    "editable": true
   },
   "source": [
    "### Randomize Data\n",
    "As you saw from exploring the data above, the order of the samples are randomized.  It doesn't hurt to randomize it again, but you don't need to for this dataset."
   ]
  },
  {
   "cell_type": "markdown",
   "metadata": {
    "deletable": true,
    "editable": true
   },
   "source": [
    "## Preprocess all the data and save it\n",
    "Running the code cell below will preprocess all the CIFAR-10 data and save it to file. The code below also uses 10% of the training data for validation."
   ]
  },
  {
   "cell_type": "code",
   "execution_count": 5,
   "metadata": {
    "collapsed": false,
    "deletable": true,
    "editable": true
   },
   "outputs": [],
   "source": [
    "\"\"\"\n",
    "DON'T MODIFY ANYTHING IN THIS CELL\n",
    "\"\"\"\n",
    "# Preprocess Training, Validation, and Testing Data\n",
    "helper.preprocess_and_save_data(cifar10_dataset_folder_path, normalize, one_hot_encode)"
   ]
  },
  {
   "cell_type": "markdown",
   "metadata": {
    "deletable": true,
    "editable": true
   },
   "source": [
    "# Check Point\n",
    "This is your first checkpoint.  If you ever decide to come back to this notebook or have to restart the notebook, you can start from here.  The preprocessed data has been saved to disk."
   ]
  },
  {
   "cell_type": "code",
   "execution_count": 6,
   "metadata": {
    "collapsed": true,
    "deletable": true,
    "editable": true
   },
   "outputs": [],
   "source": [
    "\"\"\"\n",
    "DON'T MODIFY ANYTHING IN THIS CELL\n",
    "\"\"\"\n",
    "import pickle\n",
    "import problem_unittests as tests\n",
    "import helper\n",
    "\n",
    "# Load the Preprocessed Validation data\n",
    "valid_features, valid_labels = pickle.load(open('preprocess_validation.p', mode='rb'))"
   ]
  },
  {
   "cell_type": "markdown",
   "metadata": {
    "deletable": true,
    "editable": true
   },
   "source": [
    "## Build the network\n",
    "For the neural network, you'll build each layer into a function.  Most of the code you've seen has been outside of functions. To test your code more thoroughly, we require that you put each layer in a function.  This allows us to give you better feedback and test for simple mistakes using our unittests before you submit your project.\n",
    "\n",
    ">**Note:** If you're finding it hard to dedicate enough time for this course each week, we've provided a small shortcut to this part of the project. In the next couple of problems, you'll have the option to use classes from the [TensorFlow Layers](https://www.tensorflow.org/api_docs/python/tf/layers) or [TensorFlow Layers (contrib)](https://www.tensorflow.org/api_guides/python/contrib.layers) packages to build each layer, except the layers you build in the \"Convolutional and Max Pooling Layer\" section.  TF Layers is similar to Keras's and TFLearn's abstraction to layers, so it's easy to pickup.\n",
    "\n",
    ">However, if you would like to get the most out of this course, try to solve all the problems _without_ using anything from the TF Layers packages. You **can** still use classes from other packages that happen to have the same name as ones you find in TF Layers! For example, instead of using the TF Layers version of the `conv2d` class, [tf.layers.conv2d](https://www.tensorflow.org/api_docs/python/tf/layers/conv2d), you would want to use the TF Neural Network version of `conv2d`, [tf.nn.conv2d](https://www.tensorflow.org/api_docs/python/tf/nn/conv2d). \n",
    "\n",
    "Let's begin!\n",
    "\n",
    "### Input\n",
    "The neural network needs to read the image data, one-hot encoded labels, and dropout keep probability. Implement the following functions\n",
    "* Implement `neural_net_image_input`\n",
    " * Return a [TF Placeholder](https://www.tensorflow.org/api_docs/python/tf/placeholder)\n",
    " * Set the shape using `image_shape` with batch size set to `None`.\n",
    " * Name the TensorFlow placeholder \"x\" using the TensorFlow `name` parameter in the [TF Placeholder](https://www.tensorflow.org/api_docs/python/tf/placeholder).\n",
    "* Implement `neural_net_label_input`\n",
    " * Return a [TF Placeholder](https://www.tensorflow.org/api_docs/python/tf/placeholder)\n",
    " * Set the shape using `n_classes` with batch size set to `None`.\n",
    " * Name the TensorFlow placeholder \"y\" using the TensorFlow `name` parameter in the [TF Placeholder](https://www.tensorflow.org/api_docs/python/tf/placeholder).\n",
    "* Implement `neural_net_keep_prob_input`\n",
    " * Return a [TF Placeholder](https://www.tensorflow.org/api_docs/python/tf/placeholder) for dropout keep probability.\n",
    " * Name the TensorFlow placeholder \"keep_prob\" using the TensorFlow `name` parameter in the [TF Placeholder](https://www.tensorflow.org/api_docs/python/tf/placeholder).\n",
    "\n",
    "These names will be used at the end of the project to load your saved model.\n",
    "\n",
    "Note: `None` for shapes in TensorFlow allow for a dynamic size."
   ]
  },
  {
   "cell_type": "code",
   "execution_count": 7,
   "metadata": {
    "collapsed": false,
    "deletable": true,
    "editable": true
   },
   "outputs": [
    {
     "name": "stdout",
     "output_type": "stream",
     "text": [
      "Image Input Tests Passed.\n",
      "Label Input Tests Passed.\n",
      "Keep Prob Tests Passed.\n"
     ]
    }
   ],
   "source": [
    "import tensorflow as tf\n",
    "\n",
    "def neural_net_image_input(image_shape):\n",
    "    \"\"\"\n",
    "    Return a Tensor for a batch of image input\n",
    "    : image_shape: Shape of the images\n",
    "    : return: Tensor for image input.\n",
    "    \"\"\"\n",
    "    # TODO: Implement Function\n",
    "    return tf.placeholder(tf.float32, [None, image_shape[0], image_shape[1], image_shape[2]], \"x\")\n",
    "\n",
    "\n",
    "def neural_net_label_input(n_classes):\n",
    "    \"\"\"\n",
    "    Return a Tensor for a batch of label input\n",
    "    : n_classes: Number of classes\n",
    "    : return: Tensor for label input.\n",
    "    \"\"\"\n",
    "    # TODO: Implement Function\n",
    "    return tf.placeholder(tf.float32, [None, n_classes], \"y\")\n",
    "\n",
    "\n",
    "def neural_net_keep_prob_input():\n",
    "    \"\"\"\n",
    "    Return a Tensor for keep probability\n",
    "    : return: Tensor for keep probability.\n",
    "    \"\"\"\n",
    "    # TODO: Implement Function\n",
    "    return tf.placeholder(tf.float32, name=\"keep_prob\")\n",
    "\n",
    "\n",
    "\"\"\"\n",
    "DON'T MODIFY ANYTHING IN THIS CELL THAT IS BELOW THIS LINE\n",
    "\"\"\"\n",
    "tf.reset_default_graph()\n",
    "tests.test_nn_image_inputs(neural_net_image_input)\n",
    "tests.test_nn_label_inputs(neural_net_label_input)\n",
    "tests.test_nn_keep_prob_inputs(neural_net_keep_prob_input)"
   ]
  },
  {
   "cell_type": "markdown",
   "metadata": {
    "deletable": true,
    "editable": true
   },
   "source": [
    "### Convolution and Max Pooling Layer\n",
    "Convolution layers have a lot of success with images. For this code cell, you should implement the function `conv2d_maxpool` to apply convolution then max pooling:\n",
    "* Create the weight and bias using `conv_ksize`, `conv_num_outputs` and the shape of `x_tensor`.\n",
    "* Apply a convolution to `x_tensor` using weight and `conv_strides`.\n",
    " * We recommend you use same padding, but you're welcome to use any padding.\n",
    "* Add bias\n",
    "* Add a nonlinear activation to the convolution.\n",
    "* Apply Max Pooling using `pool_ksize` and `pool_strides`.\n",
    " * We recommend you use same padding, but you're welcome to use any padding.\n",
    "\n",
    "**Note:** You **can't** use [TensorFlow Layers](https://www.tensorflow.org/api_docs/python/tf/layers) or [TensorFlow Layers (contrib)](https://www.tensorflow.org/api_guides/python/contrib.layers) for **this** layer, but you can still use TensorFlow's [Neural Network](https://www.tensorflow.org/api_docs/python/tf/nn) package. You may still use the shortcut option for all the **other** layers."
   ]
  },
  {
   "cell_type": "code",
   "execution_count": 9,
   "metadata": {
    "collapsed": false,
    "deletable": true,
    "editable": true
   },
   "outputs": [
    {
     "name": "stdout",
     "output_type": "stream",
     "text": [
      "Tests Passed\n"
     ]
    }
   ],
   "source": [
    "def conv2d_maxpool(x_tensor, conv_num_outputs, conv_ksize, conv_strides, pool_ksize, pool_strides):\n",
    "    \"\"\"\n",
    "    Apply convolution then max pooling to x_tensor\n",
    "    :param x_tensor: TensorFlow Tensor\n",
    "    :param conv_num_outputs: Number of outputs for the convolutional layer\n",
    "    :param conv_ksize: kernal size 2-D Tuple for the convolutional layer\n",
    "    :param conv_strides: Stride 2-D Tuple for convolution\n",
    "    :param pool_ksize: kernal size 2-D Tuple for pool\n",
    "    :param pool_strides: Stride 2-D Tuple for pool\n",
    "    : return: A tensor that represents convolution and max pooling of x_tensor\n",
    "    \"\"\"\n",
    "    # TODO: Implement Function\n",
    "    x = x_tensor\n",
    "    W = tf.Variable(tf.truncated_normal([conv_ksize[0], conv_ksize[1], x.get_shape().as_list()[-1], \\\n",
    "                             conv_num_outputs],mean=0.0, stddev=0.1,dtype=tf.float32))\n",
    "    b = tf.Variable(tf.zeros(conv_num_outputs,dtype=tf.float32))\n",
    "    x = tf.nn.conv2d(x, W, strides=[1,conv_strides[0],conv_strides[1],1], padding='SAME')\n",
    "    x = tf.nn.bias_add(x, b)\n",
    "    x = tf.nn.relu(x)\n",
    "\n",
    "    return tf.nn.max_pool(\n",
    "        x,\n",
    "        ksize=[1,pool_ksize[0],pool_ksize[1],1],\n",
    "        strides=[1,pool_strides[0],pool_strides[1],1],\n",
    "        padding='SAME') \n",
    "\n",
    "\n",
    "\"\"\"\n",
    "DON'T MODIFY ANYTHING IN THIS CELL THAT IS BELOW THIS LINE\n",
    "\"\"\"\n",
    "tests.test_con_pool(conv2d_maxpool)"
   ]
  },
  {
   "cell_type": "markdown",
   "metadata": {
    "deletable": true,
    "editable": true
   },
   "source": [
    "### Flatten Layer\n",
    "Implement the `flatten` function to change the dimension of `x_tensor` from a 4-D tensor to a 2-D tensor.  The output should be the shape (*Batch Size*, *Flattened Image Size*). Shortcut option: you can use classes from the [TensorFlow Layers](https://www.tensorflow.org/api_docs/python/tf/layers) or [TensorFlow Layers (contrib)](https://www.tensorflow.org/api_guides/python/contrib.layers) packages for this layer. For more of a challenge, only use other TensorFlow packages."
   ]
  },
  {
   "cell_type": "code",
   "execution_count": 10,
   "metadata": {
    "collapsed": false,
    "deletable": true,
    "editable": true
   },
   "outputs": [
    {
     "name": "stdout",
     "output_type": "stream",
     "text": [
      "Tests Passed\n"
     ]
    }
   ],
   "source": [
    "def flatten(x_tensor):\n",
    "    \"\"\"\n",
    "    Flatten x_tensor to (Batch Size, Flattened Image Size)\n",
    "    : x_tensor: A tensor of size (Batch Size, ...), where ... are the image dimensions.\n",
    "    : return: A tensor of size (Batch Size, Flattened Image Size).\n",
    "    \"\"\"\n",
    "    # TODO: Implement Function\n",
    "    return tf.contrib.layers.flatten(x_tensor)\n",
    "\n",
    "\n",
    "\"\"\"\n",
    "DON'T MODIFY ANYTHING IN THIS CELL THAT IS BELOW THIS LINE\n",
    "\"\"\"\n",
    "tests.test_flatten(flatten)"
   ]
  },
  {
   "cell_type": "markdown",
   "metadata": {
    "deletable": true,
    "editable": true
   },
   "source": [
    "### Fully-Connected Layer\n",
    "Implement the `fully_conn` function to apply a fully connected layer to `x_tensor` with the shape (*Batch Size*, *num_outputs*). Shortcut option: you can use classes from the [TensorFlow Layers](https://www.tensorflow.org/api_docs/python/tf/layers) or [TensorFlow Layers (contrib)](https://www.tensorflow.org/api_guides/python/contrib.layers) packages for this layer. For more of a challenge, only use other TensorFlow packages."
   ]
  },
  {
   "cell_type": "code",
   "execution_count": 11,
   "metadata": {
    "collapsed": false,
    "deletable": true,
    "editable": true
   },
   "outputs": [
    {
     "name": "stdout",
     "output_type": "stream",
     "text": [
      "Tests Passed\n"
     ]
    }
   ],
   "source": [
    "def fully_conn(x_tensor, num_outputs):\n",
    "    \"\"\"\n",
    "    Apply a fully connected layer to x_tensor using weight and bias\n",
    "    : x_tensor: A 2-D tensor where the first dimension is batch size.\n",
    "    : num_outputs: The number of output that the new tensor should be.\n",
    "    : return: A 2-D tensor where the second dimension is num_outputs.\n",
    "    \"\"\"\n",
    "    # TODO: Implement Function\n",
    "    return tf.contrib.layers.fully_connected(x_tensor, num_outputs, activation_fn=tf.nn.relu)\n",
    "\n",
    "\n",
    "\"\"\"\n",
    "DON'T MODIFY ANYTHING IN THIS CELL THAT IS BELOW THIS LINE\n",
    "\"\"\"\n",
    "tests.test_fully_conn(fully_conn)"
   ]
  },
  {
   "cell_type": "markdown",
   "metadata": {
    "deletable": true,
    "editable": true
   },
   "source": [
    "### Output Layer\n",
    "Implement the `output` function to apply a fully connected layer to `x_tensor` with the shape (*Batch Size*, *num_outputs*). Shortcut option: you can use classes from the [TensorFlow Layers](https://www.tensorflow.org/api_docs/python/tf/layers) or [TensorFlow Layers (contrib)](https://www.tensorflow.org/api_guides/python/contrib.layers) packages for this layer. For more of a challenge, only use other TensorFlow packages.\n",
    "\n",
    "**Note:** Activation, softmax, or cross entropy should **not** be applied to this."
   ]
  },
  {
   "cell_type": "code",
   "execution_count": 12,
   "metadata": {
    "collapsed": false,
    "deletable": true,
    "editable": true
   },
   "outputs": [
    {
     "name": "stdout",
     "output_type": "stream",
     "text": [
      "Tests Passed\n"
     ]
    }
   ],
   "source": [
    "def output(x_tensor, num_outputs):\n",
    "    \"\"\"\n",
    "    Apply a output layer to x_tensor using weight and bias\n",
    "    : x_tensor: A 2-D tensor where the first dimension is batch size.\n",
    "    : num_outputs: The number of output that the new tensor should be.\n",
    "    : return: A 2-D tensor where the second dimension is num_outputs.\n",
    "    \"\"\"\n",
    "    # TODO: Implement Function\n",
    "    return tf.contrib.layers.fully_connected(x_tensor, num_outputs, activation_fn=None)\n",
    "\n",
    "\n",
    "\"\"\"\n",
    "DON'T MODIFY ANYTHING IN THIS CELL THAT IS BELOW THIS LINE\n",
    "\"\"\"\n",
    "tests.test_output(output)"
   ]
  },
  {
   "cell_type": "markdown",
   "metadata": {
    "deletable": true,
    "editable": true
   },
   "source": [
    "### Create Convolutional Model\n",
    "Implement the function `conv_net` to create a convolutional neural network model. The function takes in a batch of images, `x`, and outputs logits.  Use the layers you created above to create this model:\n",
    "\n",
    "* Apply 1, 2, or 3 Convolution and Max Pool layers\n",
    "* Apply a Flatten Layer\n",
    "* Apply 1, 2, or 3 Fully Connected Layers\n",
    "* Apply an Output Layer\n",
    "* Return the output\n",
    "* Apply [TensorFlow's Dropout](https://www.tensorflow.org/api_docs/python/tf/nn/dropout) to one or more layers in the model using `keep_prob`. "
   ]
  },
  {
   "cell_type": "code",
   "execution_count": 13,
   "metadata": {
    "collapsed": false,
    "deletable": true,
    "editable": true
   },
   "outputs": [
    {
     "name": "stdout",
     "output_type": "stream",
     "text": [
      "Neural Network Built!\n"
     ]
    }
   ],
   "source": [
    "def conv_net(x, keep_prob):\n",
    "    \"\"\"\n",
    "    Create a convolutional neural network model\n",
    "    : x: Placeholder tensor that holds image data.\n",
    "    : keep_prob: Placeholder tensor that hold dropout keep probability.\n",
    "    : return: Tensor that represents logits\n",
    "    \"\"\"\n",
    "    # TODO: Apply 1, 2, or 3 Convolution and Max Pool layers\n",
    "    #    Play around with different number of outputs, kernel size and stride\n",
    "    # Function Definition from Above:\n",
    "    #    conv2d_maxpool(x_tensor, conv_num_outputs, conv_ksize, conv_strides, pool_ksize, pool_strides)\n",
    "    \n",
    "    num_outputs = 10\n",
    "    \n",
    "    x = conv2d_maxpool(x, 32, (5,5), (2,2), (2,2), (2,2))\n",
    "    x = conv2d_maxpool(x, 128, (3,3), (1,1), (2,2), (2,2))\n",
    "\n",
    "    # TODO: Apply a Flatten Layer\n",
    "    # Function Definition from Above:\n",
    "    #   flatten(x_tensor)\n",
    "    x = flatten(x)\n",
    "    \n",
    "\n",
    "    # TODO: Apply 1, 2, or 3 Fully Connected Layers\n",
    "    #    Play around with different number of outputs\n",
    "    # Function Definition from Above:\n",
    "    #   fully_conn(x_tensor, num_outputs)\n",
    "    x = fully_conn(x, 300)\n",
    "    x = tf.contrib.layers.dropout(x, keep_prob)\n",
    "    \n",
    "    # TODO: Apply an Output Layer\n",
    "    #    Set this to the number of classes\n",
    "    # Function Definition from Above:\n",
    "    #   output(x_tensor, num_outputs)\n",
    "    \n",
    "    x = output(x, num_outputs)\n",
    "    \n",
    "    # TODO: return output\n",
    "    return x\n",
    "\n",
    "\n",
    "\"\"\"\n",
    "DON'T MODIFY ANYTHING IN THIS CELL THAT IS BELOW THIS LINE\n",
    "\"\"\"\n",
    "\n",
    "##############################\n",
    "## Build the Neural Network ##\n",
    "##############################\n",
    "\n",
    "# Remove previous weights, bias, inputs, etc..\n",
    "tf.reset_default_graph()\n",
    "\n",
    "# Inputs\n",
    "x = neural_net_image_input((32, 32, 3))\n",
    "y = neural_net_label_input(10)\n",
    "keep_prob = neural_net_keep_prob_input()\n",
    "\n",
    "# Model\n",
    "logits = conv_net(x, keep_prob)\n",
    "\n",
    "# Name logits Tensor, so that is can be loaded from disk after training\n",
    "logits = tf.identity(logits, name='logits')\n",
    "\n",
    "# Loss and Optimizer\n",
    "cost = tf.reduce_mean(tf.nn.softmax_cross_entropy_with_logits(logits=logits, labels=y))\n",
    "optimizer = tf.train.AdamOptimizer().minimize(cost)\n",
    "\n",
    "# Accuracy\n",
    "correct_pred = tf.equal(tf.argmax(logits, 1), tf.argmax(y, 1))\n",
    "accuracy = tf.reduce_mean(tf.cast(correct_pred, tf.float32), name='accuracy')\n",
    "\n",
    "tests.test_conv_net(conv_net)"
   ]
  },
  {
   "cell_type": "markdown",
   "metadata": {
    "deletable": true,
    "editable": true
   },
   "source": [
    "## Train the Neural Network\n",
    "### Single Optimization\n",
    "Implement the function `train_neural_network` to do a single optimization.  The optimization should use `optimizer` to optimize in `session` with a `feed_dict` of the following:\n",
    "* `x` for image input\n",
    "* `y` for labels\n",
    "* `keep_prob` for keep probability for dropout\n",
    "\n",
    "This function will be called for each batch, so `tf.global_variables_initializer()` has already been called.\n",
    "\n",
    "Note: Nothing needs to be returned. This function is only optimizing the neural network."
   ]
  },
  {
   "cell_type": "code",
   "execution_count": 14,
   "metadata": {
    "collapsed": false,
    "deletable": true,
    "editable": true
   },
   "outputs": [
    {
     "name": "stdout",
     "output_type": "stream",
     "text": [
      "Tests Passed\n"
     ]
    }
   ],
   "source": [
    "def train_neural_network(session, optimizer, keep_probability, feature_batch, label_batch):\n",
    "    \"\"\"\n",
    "    Optimize the session on a batch of images and labels\n",
    "    : session: Current TensorFlow session\n",
    "    : optimizer: TensorFlow optimizer function\n",
    "    : keep_probability: keep probability\n",
    "    : feature_batch: Batch of Numpy image data\n",
    "    : label_batch: Batch of Numpy label data\n",
    "    \"\"\"\n",
    "    # TODO: Implement Function\n",
    "    session.run(optimizer, feed_dict={\n",
    "                x: feature_batch,\n",
    "                y: label_batch,\n",
    "                keep_prob: keep_probability})\n",
    "\n",
    "\n",
    "\"\"\"\n",
    "DON'T MODIFY ANYTHING IN THIS CELL THAT IS BELOW THIS LINE\n",
    "\"\"\"\n",
    "tests.test_train_nn(train_neural_network)"
   ]
  },
  {
   "cell_type": "markdown",
   "metadata": {
    "deletable": true,
    "editable": true
   },
   "source": [
    "### Show Stats\n",
    "Implement the function `print_stats` to print loss and validation accuracy.  Use the global variables `valid_features` and `valid_labels` to calculate validation accuracy.  Use a keep probability of `1.0` to calculate the loss and validation accuracy."
   ]
  },
  {
   "cell_type": "code",
   "execution_count": 15,
   "metadata": {
    "collapsed": false,
    "deletable": true,
    "editable": true
   },
   "outputs": [],
   "source": [
    "def print_stats(session, feature_batch, label_batch, cost, accuracy):\n",
    "    \"\"\"\n",
    "    Print information about loss and validation accuracy\n",
    "    : session: Current TensorFlow session\n",
    "    : feature_batch: Batch of Numpy image data\n",
    "    : label_batch: Batch of Numpy label data\n",
    "    : cost: TensorFlow cost function\n",
    "    : accuracy: TensorFlow accuracy function\n",
    "    \"\"\"\n",
    "    # TODO: Implement Function\n",
    "    loss = session.run(cost, feed_dict={\n",
    "            x: feature_batch,\n",
    "            y: label_batch,\n",
    "            keep_prob: 1.})\n",
    "    valid_acc = sess.run(accuracy, feed_dict={\n",
    "            x: valid_features,\n",
    "            y: valid_labels,\n",
    "            keep_prob: 1.})\n",
    "    print('Loss: {:>10.4f} Validation Accuracy: {:.6f}'.format(\n",
    "            loss,\n",
    "            valid_acc))    "
   ]
  },
  {
   "cell_type": "markdown",
   "metadata": {
    "deletable": true,
    "editable": true
   },
   "source": [
    "### Hyperparameters\n",
    "Tune the following parameters:\n",
    "* Set `epochs` to the number of iterations until the network stops learning or start overfitting\n",
    "* Set `batch_size` to the highest number that your machine has memory for.  Most people set them to common sizes of memory:\n",
    " * 64\n",
    " * 128\n",
    " * 256\n",
    " * ...\n",
    "* Set `keep_probability` to the probability of keeping a node using dropout"
   ]
  },
  {
   "cell_type": "code",
   "execution_count": 18,
   "metadata": {
    "collapsed": true,
    "deletable": true,
    "editable": true
   },
   "outputs": [],
   "source": [
    "# TODO: Tune Parameters\n",
    "epochs = 50\n",
    "batch_size = 128\n",
    "keep_probability = 0.50"
   ]
  },
  {
   "cell_type": "markdown",
   "metadata": {
    "deletable": true,
    "editable": true
   },
   "source": [
    "### Train on a Single CIFAR-10 Batch\n",
    "Instead of training the neural network on all the CIFAR-10 batches of data, let's use a single batch. This should save time while you iterate on the model to get a better accuracy.  Once the final validation accuracy is 50% or greater, run the model on all the data in the next section."
   ]
  },
  {
   "cell_type": "code",
   "execution_count": 19,
   "metadata": {
    "collapsed": false,
    "deletable": true,
    "editable": true
   },
   "outputs": [
    {
     "name": "stdout",
     "output_type": "stream",
     "text": [
      "Checking the Training on a Single Batch...\n",
      "Epoch  1, CIFAR-10 Batch 1:  Loss:     1.9557 Validation Accuracy: 0.384600\n",
      "Epoch  2, CIFAR-10 Batch 1:  Loss:     1.7085 Validation Accuracy: 0.448800\n",
      "Epoch  3, CIFAR-10 Batch 1:  Loss:     1.5357 Validation Accuracy: 0.483000\n",
      "Epoch  4, CIFAR-10 Batch 1:  Loss:     1.3430 Validation Accuracy: 0.503200\n",
      "Epoch  5, CIFAR-10 Batch 1:  Loss:     1.2119 Validation Accuracy: 0.530000\n",
      "Epoch  6, CIFAR-10 Batch 1:  Loss:     1.0801 Validation Accuracy: 0.551800\n",
      "Epoch  7, CIFAR-10 Batch 1:  Loss:     1.0371 Validation Accuracy: 0.551600\n",
      "Epoch  8, CIFAR-10 Batch 1:  Loss:     0.8764 Validation Accuracy: 0.564400\n",
      "Epoch  9, CIFAR-10 Batch 1:  Loss:     0.7928 Validation Accuracy: 0.568800\n",
      "Epoch 10, CIFAR-10 Batch 1:  Loss:     0.6566 Validation Accuracy: 0.583800\n",
      "Epoch 11, CIFAR-10 Batch 1:  Loss:     0.6087 Validation Accuracy: 0.603600\n",
      "Epoch 12, CIFAR-10 Batch 1:  Loss:     0.5046 Validation Accuracy: 0.584200\n",
      "Epoch 13, CIFAR-10 Batch 1:  Loss:     0.5025 Validation Accuracy: 0.596400\n",
      "Epoch 14, CIFAR-10 Batch 1:  Loss:     0.4198 Validation Accuracy: 0.603400\n",
      "Epoch 15, CIFAR-10 Batch 1:  Loss:     0.3433 Validation Accuracy: 0.611400\n",
      "Epoch 16, CIFAR-10 Batch 1:  Loss:     0.3008 Validation Accuracy: 0.603400\n",
      "Epoch 17, CIFAR-10 Batch 1:  Loss:     0.2781 Validation Accuracy: 0.597400\n",
      "Epoch 18, CIFAR-10 Batch 1:  Loss:     0.2671 Validation Accuracy: 0.589800\n",
      "Epoch 19, CIFAR-10 Batch 1:  Loss:     0.2099 Validation Accuracy: 0.607400\n",
      "Epoch 20, CIFAR-10 Batch 1:  Loss:     0.1940 Validation Accuracy: 0.595800\n",
      "Epoch 21, CIFAR-10 Batch 1:  Loss:     0.1686 Validation Accuracy: 0.595200\n",
      "Epoch 22, CIFAR-10 Batch 1:  Loss:     0.1514 Validation Accuracy: 0.615000\n",
      "Epoch 23, CIFAR-10 Batch 1:  Loss:     0.1231 Validation Accuracy: 0.610200\n",
      "Epoch 24, CIFAR-10 Batch 1:  Loss:     0.1108 Validation Accuracy: 0.621800\n",
      "Epoch 25, CIFAR-10 Batch 1:  Loss:     0.1001 Validation Accuracy: 0.617800\n",
      "Epoch 26, CIFAR-10 Batch 1:  Loss:     0.0956 Validation Accuracy: 0.622200\n",
      "Epoch 27, CIFAR-10 Batch 1:  Loss:     0.1000 Validation Accuracy: 0.606000\n",
      "Epoch 28, CIFAR-10 Batch 1:  Loss:     0.0851 Validation Accuracy: 0.609800\n",
      "Epoch 29, CIFAR-10 Batch 1:  Loss:     0.0849 Validation Accuracy: 0.592200\n",
      "Epoch 30, CIFAR-10 Batch 1:  Loss:     0.0583 Validation Accuracy: 0.615200\n",
      "Epoch 31, CIFAR-10 Batch 1:  Loss:     0.0388 Validation Accuracy: 0.614400\n",
      "Epoch 32, CIFAR-10 Batch 1:  Loss:     0.0442 Validation Accuracy: 0.611200\n",
      "Epoch 33, CIFAR-10 Batch 1:  Loss:     0.0456 Validation Accuracy: 0.614000\n",
      "Epoch 34, CIFAR-10 Batch 1:  Loss:     0.0353 Validation Accuracy: 0.602200\n",
      "Epoch 35, CIFAR-10 Batch 1:  Loss:     0.0323 Validation Accuracy: 0.612400\n",
      "Epoch 36, CIFAR-10 Batch 1:  Loss:     0.0299 Validation Accuracy: 0.607600\n",
      "Epoch 37, CIFAR-10 Batch 1:  Loss:     0.0263 Validation Accuracy: 0.603000\n",
      "Epoch 38, CIFAR-10 Batch 1:  Loss:     0.0234 Validation Accuracy: 0.599400\n",
      "Epoch 39, CIFAR-10 Batch 1:  Loss:     0.0124 Validation Accuracy: 0.611000\n",
      "Epoch 40, CIFAR-10 Batch 1:  Loss:     0.0156 Validation Accuracy: 0.600400\n",
      "Epoch 41, CIFAR-10 Batch 1:  Loss:     0.0115 Validation Accuracy: 0.604200\n",
      "Epoch 42, CIFAR-10 Batch 1:  Loss:     0.0161 Validation Accuracy: 0.595800\n",
      "Epoch 43, CIFAR-10 Batch 1:  Loss:     0.0129 Validation Accuracy: 0.602600\n",
      "Epoch 44, CIFAR-10 Batch 1:  Loss:     0.0102 Validation Accuracy: 0.603600\n",
      "Epoch 45, CIFAR-10 Batch 1:  Loss:     0.0070 Validation Accuracy: 0.604200\n",
      "Epoch 46, CIFAR-10 Batch 1:  Loss:     0.0088 Validation Accuracy: 0.606600\n",
      "Epoch 47, CIFAR-10 Batch 1:  Loss:     0.0082 Validation Accuracy: 0.609600\n",
      "Epoch 48, CIFAR-10 Batch 1:  Loss:     0.0057 Validation Accuracy: 0.617600\n",
      "Epoch 49, CIFAR-10 Batch 1:  Loss:     0.0139 Validation Accuracy: 0.607200\n",
      "Epoch 50, CIFAR-10 Batch 1:  Loss:     0.0083 Validation Accuracy: 0.612800\n"
     ]
    }
   ],
   "source": [
    "\"\"\"\n",
    "DON'T MODIFY ANYTHING IN THIS CELL\n",
    "\"\"\"\n",
    "print('Checking the Training on a Single Batch...')\n",
    "with tf.Session() as sess:\n",
    "    # Initializing the variables\n",
    "    sess.run(tf.global_variables_initializer())\n",
    "    \n",
    "    # Training cycle\n",
    "    for epoch in range(epochs):\n",
    "        batch_i = 1\n",
    "        for batch_features, batch_labels in helper.load_preprocess_training_batch(batch_i, batch_size):\n",
    "            train_neural_network(sess, optimizer, keep_probability, batch_features, batch_labels)\n",
    "        print('Epoch {:>2}, CIFAR-10 Batch {}:  '.format(epoch + 1, batch_i), end='')\n",
    "        print_stats(sess, batch_features, batch_labels, cost, accuracy)"
   ]
  },
  {
   "cell_type": "markdown",
   "metadata": {
    "deletable": true,
    "editable": true
   },
   "source": [
    "### Fully Train the Model\n",
    "Now that you got a good accuracy with a single CIFAR-10 batch, try it with all five batches."
   ]
  },
  {
   "cell_type": "code",
   "execution_count": 20,
   "metadata": {
    "collapsed": false,
    "deletable": true,
    "editable": true
   },
   "outputs": [
    {
     "name": "stdout",
     "output_type": "stream",
     "text": [
      "Training...\n",
      "Epoch  1, CIFAR-10 Batch 1:  Loss:     2.0279 Validation Accuracy: 0.379800\n",
      "Epoch  1, CIFAR-10 Batch 2:  Loss:     1.6785 Validation Accuracy: 0.450800\n",
      "Epoch  1, CIFAR-10 Batch 3:  Loss:     1.3501 Validation Accuracy: 0.453000\n",
      "Epoch  1, CIFAR-10 Batch 4:  Loss:     1.3552 Validation Accuracy: 0.485600\n",
      "Epoch  1, CIFAR-10 Batch 5:  Loss:     1.5029 Validation Accuracy: 0.520800\n",
      "Epoch  2, CIFAR-10 Batch 1:  Loss:     1.4769 Validation Accuracy: 0.524000\n",
      "Epoch  2, CIFAR-10 Batch 2:  Loss:     1.3069 Validation Accuracy: 0.508600\n",
      "Epoch  2, CIFAR-10 Batch 3:  Loss:     1.0709 Validation Accuracy: 0.538600\n",
      "Epoch  2, CIFAR-10 Batch 4:  Loss:     1.1724 Validation Accuracy: 0.559600\n",
      "Epoch  2, CIFAR-10 Batch 5:  Loss:     1.2267 Validation Accuracy: 0.581400\n",
      "Epoch  3, CIFAR-10 Batch 1:  Loss:     1.1692 Validation Accuracy: 0.578200\n",
      "Epoch  3, CIFAR-10 Batch 2:  Loss:     1.0588 Validation Accuracy: 0.589800\n",
      "Epoch  3, CIFAR-10 Batch 3:  Loss:     0.9051 Validation Accuracy: 0.601800\n",
      "Epoch  3, CIFAR-10 Batch 4:  Loss:     0.9658 Validation Accuracy: 0.610200\n",
      "Epoch  3, CIFAR-10 Batch 5:  Loss:     1.0162 Validation Accuracy: 0.618800\n",
      "Epoch  4, CIFAR-10 Batch 1:  Loss:     1.0659 Validation Accuracy: 0.608000\n",
      "Epoch  4, CIFAR-10 Batch 2:  Loss:     0.8745 Validation Accuracy: 0.610400\n",
      "Epoch  4, CIFAR-10 Batch 3:  Loss:     0.7762 Validation Accuracy: 0.619600\n",
      "Epoch  4, CIFAR-10 Batch 4:  Loss:     0.8639 Validation Accuracy: 0.651400\n",
      "Epoch  4, CIFAR-10 Batch 5:  Loss:     0.8268 Validation Accuracy: 0.649400\n",
      "Epoch  5, CIFAR-10 Batch 1:  Loss:     0.9262 Validation Accuracy: 0.645400\n",
      "Epoch  5, CIFAR-10 Batch 2:  Loss:     0.7444 Validation Accuracy: 0.634000\n",
      "Epoch  5, CIFAR-10 Batch 3:  Loss:     0.5898 Validation Accuracy: 0.653000\n",
      "Epoch  5, CIFAR-10 Batch 4:  Loss:     0.7800 Validation Accuracy: 0.663800\n",
      "Epoch  5, CIFAR-10 Batch 5:  Loss:     0.6936 Validation Accuracy: 0.668400\n",
      "Epoch  6, CIFAR-10 Batch 1:  Loss:     0.8173 Validation Accuracy: 0.659400\n",
      "Epoch  6, CIFAR-10 Batch 2:  Loss:     0.6573 Validation Accuracy: 0.661200\n",
      "Epoch  6, CIFAR-10 Batch 3:  Loss:     0.5392 Validation Accuracy: 0.660200\n",
      "Epoch  6, CIFAR-10 Batch 4:  Loss:     0.6662 Validation Accuracy: 0.676200\n",
      "Epoch  6, CIFAR-10 Batch 5:  Loss:     0.5701 Validation Accuracy: 0.668200\n",
      "Epoch  7, CIFAR-10 Batch 1:  Loss:     0.6426 Validation Accuracy: 0.669800\n",
      "Epoch  7, CIFAR-10 Batch 2:  Loss:     0.5162 Validation Accuracy: 0.675200\n",
      "Epoch  7, CIFAR-10 Batch 3:  Loss:     0.4701 Validation Accuracy: 0.664800\n",
      "Epoch  7, CIFAR-10 Batch 4:  Loss:     0.5681 Validation Accuracy: 0.683600\n",
      "Epoch  7, CIFAR-10 Batch 5:  Loss:     0.4846 Validation Accuracy: 0.692400\n",
      "Epoch  8, CIFAR-10 Batch 1:  Loss:     0.5338 Validation Accuracy: 0.683200\n",
      "Epoch  8, CIFAR-10 Batch 2:  Loss:     0.4849 Validation Accuracy: 0.687400\n",
      "Epoch  8, CIFAR-10 Batch 3:  Loss:     0.4282 Validation Accuracy: 0.684600\n",
      "Epoch  8, CIFAR-10 Batch 4:  Loss:     0.5018 Validation Accuracy: 0.689600\n",
      "Epoch  8, CIFAR-10 Batch 5:  Loss:     0.4381 Validation Accuracy: 0.692200\n",
      "Epoch  9, CIFAR-10 Batch 1:  Loss:     0.4610 Validation Accuracy: 0.691000\n",
      "Epoch  9, CIFAR-10 Batch 2:  Loss:     0.4146 Validation Accuracy: 0.690800\n",
      "Epoch  9, CIFAR-10 Batch 3:  Loss:     0.3812 Validation Accuracy: 0.696400\n",
      "Epoch  9, CIFAR-10 Batch 4:  Loss:     0.4605 Validation Accuracy: 0.698000\n",
      "Epoch  9, CIFAR-10 Batch 5:  Loss:     0.3717 Validation Accuracy: 0.690200\n",
      "Epoch 10, CIFAR-10 Batch 1:  Loss:     0.4218 Validation Accuracy: 0.692800\n",
      "Epoch 10, CIFAR-10 Batch 2:  Loss:     0.3540 Validation Accuracy: 0.693800\n",
      "Epoch 10, CIFAR-10 Batch 3:  Loss:     0.2970 Validation Accuracy: 0.700000\n",
      "Epoch 10, CIFAR-10 Batch 4:  Loss:     0.3975 Validation Accuracy: 0.697200\n",
      "Epoch 10, CIFAR-10 Batch 5:  Loss:     0.3617 Validation Accuracy: 0.687400\n",
      "Epoch 11, CIFAR-10 Batch 1:  Loss:     0.3859 Validation Accuracy: 0.696200\n",
      "Epoch 11, CIFAR-10 Batch 2:  Loss:     0.2931 Validation Accuracy: 0.698400\n",
      "Epoch 11, CIFAR-10 Batch 3:  Loss:     0.2693 Validation Accuracy: 0.700200\n",
      "Epoch 11, CIFAR-10 Batch 4:  Loss:     0.3758 Validation Accuracy: 0.696200\n",
      "Epoch 11, CIFAR-10 Batch 5:  Loss:     0.2495 Validation Accuracy: 0.697200\n",
      "Epoch 12, CIFAR-10 Batch 1:  Loss:     0.3530 Validation Accuracy: 0.691400\n",
      "Epoch 12, CIFAR-10 Batch 2:  Loss:     0.2653 Validation Accuracy: 0.702600\n",
      "Epoch 12, CIFAR-10 Batch 3:  Loss:     0.2110 Validation Accuracy: 0.704800\n",
      "Epoch 12, CIFAR-10 Batch 4:  Loss:     0.3102 Validation Accuracy: 0.696400\n",
      "Epoch 12, CIFAR-10 Batch 5:  Loss:     0.2705 Validation Accuracy: 0.704000\n",
      "Epoch 13, CIFAR-10 Batch 1:  Loss:     0.3341 Validation Accuracy: 0.698200\n",
      "Epoch 13, CIFAR-10 Batch 2:  Loss:     0.2220 Validation Accuracy: 0.704600\n",
      "Epoch 13, CIFAR-10 Batch 3:  Loss:     0.2020 Validation Accuracy: 0.707400\n",
      "Epoch 13, CIFAR-10 Batch 4:  Loss:     0.2939 Validation Accuracy: 0.709600\n",
      "Epoch 13, CIFAR-10 Batch 5:  Loss:     0.2519 Validation Accuracy: 0.701200\n",
      "Epoch 14, CIFAR-10 Batch 1:  Loss:     0.2809 Validation Accuracy: 0.699800\n",
      "Epoch 14, CIFAR-10 Batch 2:  Loss:     0.2065 Validation Accuracy: 0.701600\n",
      "Epoch 14, CIFAR-10 Batch 3:  Loss:     0.2000 Validation Accuracy: 0.697600\n",
      "Epoch 14, CIFAR-10 Batch 4:  Loss:     0.2461 Validation Accuracy: 0.695200\n",
      "Epoch 14, CIFAR-10 Batch 5:  Loss:     0.2179 Validation Accuracy: 0.694000\n",
      "Epoch 15, CIFAR-10 Batch 1:  Loss:     0.2261 Validation Accuracy: 0.708200\n",
      "Epoch 15, CIFAR-10 Batch 2:  Loss:     0.1901 Validation Accuracy: 0.707200\n",
      "Epoch 15, CIFAR-10 Batch 3:  Loss:     0.1455 Validation Accuracy: 0.706200\n",
      "Epoch 15, CIFAR-10 Batch 4:  Loss:     0.2634 Validation Accuracy: 0.703800\n",
      "Epoch 15, CIFAR-10 Batch 5:  Loss:     0.2063 Validation Accuracy: 0.695000\n",
      "Epoch 16, CIFAR-10 Batch 1:  Loss:     0.2262 Validation Accuracy: 0.702400\n",
      "Epoch 16, CIFAR-10 Batch 2:  Loss:     0.1607 Validation Accuracy: 0.705600\n",
      "Epoch 16, CIFAR-10 Batch 3:  Loss:     0.1430 Validation Accuracy: 0.703400\n",
      "Epoch 16, CIFAR-10 Batch 4:  Loss:     0.2285 Validation Accuracy: 0.699000\n",
      "Epoch 16, CIFAR-10 Batch 5:  Loss:     0.1913 Validation Accuracy: 0.695600\n",
      "Epoch 17, CIFAR-10 Batch 1:  Loss:     0.1718 Validation Accuracy: 0.711200\n",
      "Epoch 17, CIFAR-10 Batch 2:  Loss:     0.1446 Validation Accuracy: 0.705400\n",
      "Epoch 17, CIFAR-10 Batch 3:  Loss:     0.1321 Validation Accuracy: 0.708800\n",
      "Epoch 17, CIFAR-10 Batch 4:  Loss:     0.1839 Validation Accuracy: 0.700200\n",
      "Epoch 17, CIFAR-10 Batch 5:  Loss:     0.1327 Validation Accuracy: 0.705800\n",
      "Epoch 18, CIFAR-10 Batch 1:  Loss:     0.1484 Validation Accuracy: 0.714400\n",
      "Epoch 18, CIFAR-10 Batch 2:  Loss:     0.1521 Validation Accuracy: 0.707000\n",
      "Epoch 18, CIFAR-10 Batch 3:  Loss:     0.1191 Validation Accuracy: 0.702200\n",
      "Epoch 18, CIFAR-10 Batch 4:  Loss:     0.1609 Validation Accuracy: 0.711400\n",
      "Epoch 18, CIFAR-10 Batch 5:  Loss:     0.1071 Validation Accuracy: 0.709800\n",
      "Epoch 19, CIFAR-10 Batch 1:  Loss:     0.1523 Validation Accuracy: 0.712800\n",
      "Epoch 19, CIFAR-10 Batch 2:  Loss:     0.1288 Validation Accuracy: 0.696200\n",
      "Epoch 19, CIFAR-10 Batch 3:  Loss:     0.0891 Validation Accuracy: 0.700600\n",
      "Epoch 19, CIFAR-10 Batch 4:  Loss:     0.1702 Validation Accuracy: 0.701800\n",
      "Epoch 19, CIFAR-10 Batch 5:  Loss:     0.1056 Validation Accuracy: 0.710400\n",
      "Epoch 20, CIFAR-10 Batch 1:  Loss:     0.1371 Validation Accuracy: 0.696000\n",
      "Epoch 20, CIFAR-10 Batch 2:  Loss:     0.1247 Validation Accuracy: 0.709600\n",
      "Epoch 20, CIFAR-10 Batch 3:  Loss:     0.0837 Validation Accuracy: 0.704400\n",
      "Epoch 20, CIFAR-10 Batch 4:  Loss:     0.1646 Validation Accuracy: 0.704200\n",
      "Epoch 20, CIFAR-10 Batch 5:  Loss:     0.0761 Validation Accuracy: 0.707400\n",
      "Epoch 21, CIFAR-10 Batch 1:  Loss:     0.1174 Validation Accuracy: 0.714600\n",
      "Epoch 21, CIFAR-10 Batch 2:  Loss:     0.1160 Validation Accuracy: 0.699600\n",
      "Epoch 21, CIFAR-10 Batch 3:  Loss:     0.0832 Validation Accuracy: 0.694800\n",
      "Epoch 21, CIFAR-10 Batch 4:  Loss:     0.1339 Validation Accuracy: 0.701600\n",
      "Epoch 21, CIFAR-10 Batch 5:  Loss:     0.0815 Validation Accuracy: 0.700600\n",
      "Epoch 22, CIFAR-10 Batch 1:  Loss:     0.1131 Validation Accuracy: 0.716000\n",
      "Epoch 22, CIFAR-10 Batch 2:  Loss:     0.0978 Validation Accuracy: 0.703800\n",
      "Epoch 22, CIFAR-10 Batch 3:  Loss:     0.0731 Validation Accuracy: 0.699800\n",
      "Epoch 22, CIFAR-10 Batch 4:  Loss:     0.1183 Validation Accuracy: 0.693200\n",
      "Epoch 22, CIFAR-10 Batch 5:  Loss:     0.0629 Validation Accuracy: 0.692400\n",
      "Epoch 23, CIFAR-10 Batch 1:  Loss:     0.1023 Validation Accuracy: 0.710000\n",
      "Epoch 23, CIFAR-10 Batch 2:  Loss:     0.0896 Validation Accuracy: 0.702600\n",
      "Epoch 23, CIFAR-10 Batch 3:  Loss:     0.0707 Validation Accuracy: 0.708600\n",
      "Epoch 23, CIFAR-10 Batch 4:  Loss:     0.1239 Validation Accuracy: 0.697000\n",
      "Epoch 23, CIFAR-10 Batch 5:  Loss:     0.0596 Validation Accuracy: 0.704200\n",
      "Epoch 24, CIFAR-10 Batch 1:  Loss:     0.0854 Validation Accuracy: 0.711600\n",
      "Epoch 24, CIFAR-10 Batch 2:  Loss:     0.0762 Validation Accuracy: 0.705600\n",
      "Epoch 24, CIFAR-10 Batch 3:  Loss:     0.0601 Validation Accuracy: 0.710600\n",
      "Epoch 24, CIFAR-10 Batch 4:  Loss:     0.1024 Validation Accuracy: 0.691800\n",
      "Epoch 24, CIFAR-10 Batch 5:  Loss:     0.0805 Validation Accuracy: 0.699800\n",
      "Epoch 25, CIFAR-10 Batch 1:  Loss:     0.0776 Validation Accuracy: 0.715600\n",
      "Epoch 25, CIFAR-10 Batch 2:  Loss:     0.0717 Validation Accuracy: 0.711400\n",
      "Epoch 25, CIFAR-10 Batch 3:  Loss:     0.0538 Validation Accuracy: 0.712600\n",
      "Epoch 25, CIFAR-10 Batch 4:  Loss:     0.0915 Validation Accuracy: 0.689400\n",
      "Epoch 25, CIFAR-10 Batch 5:  Loss:     0.0502 Validation Accuracy: 0.699000\n",
      "Epoch 26, CIFAR-10 Batch 1:  Loss:     0.1025 Validation Accuracy: 0.707200\n",
      "Epoch 26, CIFAR-10 Batch 2:  Loss:     0.0710 Validation Accuracy: 0.704200\n",
      "Epoch 26, CIFAR-10 Batch 3:  Loss:     0.0707 Validation Accuracy: 0.710000\n",
      "Epoch 26, CIFAR-10 Batch 4:  Loss:     0.0909 Validation Accuracy: 0.698400\n",
      "Epoch 26, CIFAR-10 Batch 5:  Loss:     0.0640 Validation Accuracy: 0.692800\n",
      "Epoch 27, CIFAR-10 Batch 1:  Loss:     0.0866 Validation Accuracy: 0.706600\n",
      "Epoch 27, CIFAR-10 Batch 2:  Loss:     0.0576 Validation Accuracy: 0.710400\n",
      "Epoch 27, CIFAR-10 Batch 3:  Loss:     0.0563 Validation Accuracy: 0.704600\n",
      "Epoch 27, CIFAR-10 Batch 4:  Loss:     0.0745 Validation Accuracy: 0.704600\n",
      "Epoch 27, CIFAR-10 Batch 5:  Loss:     0.0380 Validation Accuracy: 0.698400\n",
      "Epoch 28, CIFAR-10 Batch 1:  Loss:     0.0749 Validation Accuracy: 0.710200\n",
      "Epoch 28, CIFAR-10 Batch 2:  Loss:     0.0500 Validation Accuracy: 0.701800\n",
      "Epoch 28, CIFAR-10 Batch 3:  Loss:     0.0652 Validation Accuracy: 0.705800\n",
      "Epoch 28, CIFAR-10 Batch 4:  Loss:     0.0532 Validation Accuracy: 0.702400\n",
      "Epoch 28, CIFAR-10 Batch 5:  Loss:     0.0400 Validation Accuracy: 0.704000\n",
      "Epoch 29, CIFAR-10 Batch 1:  Loss:     0.0718 Validation Accuracy: 0.705600\n",
      "Epoch 29, CIFAR-10 Batch 2:  Loss:     0.0579 Validation Accuracy: 0.708400\n",
      "Epoch 29, CIFAR-10 Batch 3:  Loss:     0.0481 Validation Accuracy: 0.706000\n",
      "Epoch 29, CIFAR-10 Batch 4:  Loss:     0.0602 Validation Accuracy: 0.706000\n",
      "Epoch 29, CIFAR-10 Batch 5:  Loss:     0.0285 Validation Accuracy: 0.705400\n",
      "Epoch 30, CIFAR-10 Batch 1:  Loss:     0.0626 Validation Accuracy: 0.713400\n",
      "Epoch 30, CIFAR-10 Batch 2:  Loss:     0.0299 Validation Accuracy: 0.709200\n",
      "Epoch 30, CIFAR-10 Batch 3:  Loss:     0.0332 Validation Accuracy: 0.697000\n",
      "Epoch 30, CIFAR-10 Batch 4:  Loss:     0.0520 Validation Accuracy: 0.706200\n",
      "Epoch 30, CIFAR-10 Batch 5:  Loss:     0.0281 Validation Accuracy: 0.704000\n",
      "Epoch 31, CIFAR-10 Batch 1:  Loss:     0.0401 Validation Accuracy: 0.707800\n",
      "Epoch 31, CIFAR-10 Batch 2:  Loss:     0.0378 Validation Accuracy: 0.694200\n",
      "Epoch 31, CIFAR-10 Batch 3:  Loss:     0.0306 Validation Accuracy: 0.700600\n",
      "Epoch 31, CIFAR-10 Batch 4:  Loss:     0.0311 Validation Accuracy: 0.712200\n",
      "Epoch 31, CIFAR-10 Batch 5:  Loss:     0.0398 Validation Accuracy: 0.696400\n",
      "Epoch 32, CIFAR-10 Batch 1:  Loss:     0.0449 Validation Accuracy: 0.706000\n",
      "Epoch 32, CIFAR-10 Batch 2:  Loss:     0.0359 Validation Accuracy: 0.713400\n",
      "Epoch 32, CIFAR-10 Batch 3:  Loss:     0.0418 Validation Accuracy: 0.710200\n",
      "Epoch 32, CIFAR-10 Batch 4:  Loss:     0.0373 Validation Accuracy: 0.706400\n",
      "Epoch 32, CIFAR-10 Batch 5:  Loss:     0.0237 Validation Accuracy: 0.701200\n",
      "Epoch 33, CIFAR-10 Batch 1:  Loss:     0.0313 Validation Accuracy: 0.698600\n",
      "Epoch 33, CIFAR-10 Batch 2:  Loss:     0.0218 Validation Accuracy: 0.709000\n",
      "Epoch 33, CIFAR-10 Batch 3:  Loss:     0.0423 Validation Accuracy: 0.709600\n",
      "Epoch 33, CIFAR-10 Batch 4:  Loss:     0.0450 Validation Accuracy: 0.701200\n",
      "Epoch 33, CIFAR-10 Batch 5:  Loss:     0.0537 Validation Accuracy: 0.684200\n",
      "Epoch 34, CIFAR-10 Batch 1:  Loss:     0.0399 Validation Accuracy: 0.706800\n",
      "Epoch 34, CIFAR-10 Batch 2:  Loss:     0.0340 Validation Accuracy: 0.709000\n",
      "Epoch 34, CIFAR-10 Batch 3:  Loss:     0.0503 Validation Accuracy: 0.704200\n",
      "Epoch 34, CIFAR-10 Batch 4:  Loss:     0.0255 Validation Accuracy: 0.705400\n",
      "Epoch 34, CIFAR-10 Batch 5:  Loss:     0.0280 Validation Accuracy: 0.700600\n",
      "Epoch 35, CIFAR-10 Batch 1:  Loss:     0.0365 Validation Accuracy: 0.708200\n",
      "Epoch 35, CIFAR-10 Batch 2:  Loss:     0.0259 Validation Accuracy: 0.711200\n",
      "Epoch 35, CIFAR-10 Batch 3:  Loss:     0.0251 Validation Accuracy: 0.706200\n",
      "Epoch 35, CIFAR-10 Batch 4:  Loss:     0.0294 Validation Accuracy: 0.704600\n",
      "Epoch 35, CIFAR-10 Batch 5:  Loss:     0.0204 Validation Accuracy: 0.684400\n",
      "Epoch 36, CIFAR-10 Batch 1:  Loss:     0.0462 Validation Accuracy: 0.705800\n",
      "Epoch 36, CIFAR-10 Batch 2:  Loss:     0.0297 Validation Accuracy: 0.711800\n",
      "Epoch 36, CIFAR-10 Batch 3:  Loss:     0.0282 Validation Accuracy: 0.708200\n",
      "Epoch 36, CIFAR-10 Batch 4:  Loss:     0.0389 Validation Accuracy: 0.690800\n",
      "Epoch 36, CIFAR-10 Batch 5:  Loss:     0.0124 Validation Accuracy: 0.698200\n",
      "Epoch 37, CIFAR-10 Batch 1:  Loss:     0.0481 Validation Accuracy: 0.709800\n",
      "Epoch 37, CIFAR-10 Batch 2:  Loss:     0.0363 Validation Accuracy: 0.704400\n",
      "Epoch 37, CIFAR-10 Batch 3:  Loss:     0.0177 Validation Accuracy: 0.711200\n",
      "Epoch 37, CIFAR-10 Batch 4:  Loss:     0.0382 Validation Accuracy: 0.701200\n",
      "Epoch 37, CIFAR-10 Batch 5:  Loss:     0.0248 Validation Accuracy: 0.701200\n",
      "Epoch 38, CIFAR-10 Batch 1:  Loss:     0.0432 Validation Accuracy: 0.705400\n",
      "Epoch 38, CIFAR-10 Batch 2:  Loss:     0.0340 Validation Accuracy: 0.709200\n",
      "Epoch 38, CIFAR-10 Batch 3:  Loss:     0.0303 Validation Accuracy: 0.700600\n",
      "Epoch 38, CIFAR-10 Batch 4:  Loss:     0.0268 Validation Accuracy: 0.699800\n",
      "Epoch 38, CIFAR-10 Batch 5:  Loss:     0.0124 Validation Accuracy: 0.693000\n",
      "Epoch 39, CIFAR-10 Batch 1:  Loss:     0.0331 Validation Accuracy: 0.707800\n",
      "Epoch 39, CIFAR-10 Batch 2:  Loss:     0.0258 Validation Accuracy: 0.704800\n",
      "Epoch 39, CIFAR-10 Batch 3:  Loss:     0.0190 Validation Accuracy: 0.705400\n",
      "Epoch 39, CIFAR-10 Batch 4:  Loss:     0.0207 Validation Accuracy: 0.701400\n",
      "Epoch 39, CIFAR-10 Batch 5:  Loss:     0.0162 Validation Accuracy: 0.686000\n",
      "Epoch 40, CIFAR-10 Batch 1:  Loss:     0.0399 Validation Accuracy: 0.709000\n",
      "Epoch 40, CIFAR-10 Batch 2:  Loss:     0.0229 Validation Accuracy: 0.703800\n",
      "Epoch 40, CIFAR-10 Batch 3:  Loss:     0.0349 Validation Accuracy: 0.712000\n",
      "Epoch 40, CIFAR-10 Batch 4:  Loss:     0.0281 Validation Accuracy: 0.693800\n",
      "Epoch 40, CIFAR-10 Batch 5:  Loss:     0.0126 Validation Accuracy: 0.695400\n",
      "Epoch 41, CIFAR-10 Batch 1:  Loss:     0.0395 Validation Accuracy: 0.690400\n",
      "Epoch 41, CIFAR-10 Batch 2:  Loss:     0.0235 Validation Accuracy: 0.704600\n",
      "Epoch 41, CIFAR-10 Batch 3:  Loss:     0.0216 Validation Accuracy: 0.714200\n",
      "Epoch 41, CIFAR-10 Batch 4:  Loss:     0.0324 Validation Accuracy: 0.702400\n",
      "Epoch 41, CIFAR-10 Batch 5:  Loss:     0.0111 Validation Accuracy: 0.689000\n",
      "Epoch 42, CIFAR-10 Batch 1:  Loss:     0.0315 Validation Accuracy: 0.692600\n",
      "Epoch 42, CIFAR-10 Batch 2:  Loss:     0.0177 Validation Accuracy: 0.709000\n",
      "Epoch 42, CIFAR-10 Batch 3:  Loss:     0.0157 Validation Accuracy: 0.709600\n",
      "Epoch 42, CIFAR-10 Batch 4:  Loss:     0.0267 Validation Accuracy: 0.705200\n",
      "Epoch 42, CIFAR-10 Batch 5:  Loss:     0.0496 Validation Accuracy: 0.690200\n",
      "Epoch 43, CIFAR-10 Batch 1:  Loss:     0.0135 Validation Accuracy: 0.706000\n",
      "Epoch 43, CIFAR-10 Batch 2:  Loss:     0.0199 Validation Accuracy: 0.706600\n",
      "Epoch 43, CIFAR-10 Batch 3:  Loss:     0.0057 Validation Accuracy: 0.712600\n",
      "Epoch 43, CIFAR-10 Batch 4:  Loss:     0.0173 Validation Accuracy: 0.707200\n",
      "Epoch 43, CIFAR-10 Batch 5:  Loss:     0.0151 Validation Accuracy: 0.686000\n",
      "Epoch 44, CIFAR-10 Batch 1:  Loss:     0.0219 Validation Accuracy: 0.700800\n",
      "Epoch 44, CIFAR-10 Batch 2:  Loss:     0.0223 Validation Accuracy: 0.708000\n",
      "Epoch 44, CIFAR-10 Batch 3:  Loss:     0.0161 Validation Accuracy: 0.705000\n",
      "Epoch 44, CIFAR-10 Batch 4:  Loss:     0.0308 Validation Accuracy: 0.698200\n",
      "Epoch 44, CIFAR-10 Batch 5:  Loss:     0.0122 Validation Accuracy: 0.702600\n",
      "Epoch 45, CIFAR-10 Batch 1:  Loss:     0.0235 Validation Accuracy: 0.702000\n",
      "Epoch 45, CIFAR-10 Batch 2:  Loss:     0.0192 Validation Accuracy: 0.714800\n",
      "Epoch 45, CIFAR-10 Batch 3:  Loss:     0.0205 Validation Accuracy: 0.699800\n",
      "Epoch 45, CIFAR-10 Batch 4:  Loss:     0.0286 Validation Accuracy: 0.696000\n",
      "Epoch 45, CIFAR-10 Batch 5:  Loss:     0.0029 Validation Accuracy: 0.698600\n",
      "Epoch 46, CIFAR-10 Batch 1:  Loss:     0.0139 Validation Accuracy: 0.704800\n",
      "Epoch 46, CIFAR-10 Batch 2:  Loss:     0.0104 Validation Accuracy: 0.715200\n",
      "Epoch 46, CIFAR-10 Batch 3:  Loss:     0.0131 Validation Accuracy: 0.707600\n",
      "Epoch 46, CIFAR-10 Batch 4:  Loss:     0.0153 Validation Accuracy: 0.708400\n",
      "Epoch 46, CIFAR-10 Batch 5:  Loss:     0.0042 Validation Accuracy: 0.708000\n",
      "Epoch 47, CIFAR-10 Batch 1:  Loss:     0.0301 Validation Accuracy: 0.696000\n",
      "Epoch 47, CIFAR-10 Batch 2:  Loss:     0.0175 Validation Accuracy: 0.710000\n",
      "Epoch 47, CIFAR-10 Batch 3:  Loss:     0.0105 Validation Accuracy: 0.703200\n",
      "Epoch 47, CIFAR-10 Batch 4:  Loss:     0.0060 Validation Accuracy: 0.698600\n",
      "Epoch 47, CIFAR-10 Batch 5:  Loss:     0.0076 Validation Accuracy: 0.700600\n",
      "Epoch 48, CIFAR-10 Batch 1:  Loss:     0.0287 Validation Accuracy: 0.698800\n",
      "Epoch 48, CIFAR-10 Batch 2:  Loss:     0.0202 Validation Accuracy: 0.718800\n",
      "Epoch 48, CIFAR-10 Batch 3:  Loss:     0.0084 Validation Accuracy: 0.707400\n",
      "Epoch 48, CIFAR-10 Batch 4:  Loss:     0.0089 Validation Accuracy: 0.705600\n",
      "Epoch 48, CIFAR-10 Batch 5:  Loss:     0.0040 Validation Accuracy: 0.703200\n",
      "Epoch 49, CIFAR-10 Batch 1:  Loss:     0.0231 Validation Accuracy: 0.702400\n",
      "Epoch 49, CIFAR-10 Batch 2:  Loss:     0.0100 Validation Accuracy: 0.711800\n",
      "Epoch 49, CIFAR-10 Batch 3:  Loss:     0.0182 Validation Accuracy: 0.693600\n",
      "Epoch 49, CIFAR-10 Batch 4:  Loss:     0.0175 Validation Accuracy: 0.700600\n",
      "Epoch 49, CIFAR-10 Batch 5:  Loss:     0.0103 Validation Accuracy: 0.703400\n",
      "Epoch 50, CIFAR-10 Batch 1:  Loss:     0.0172 Validation Accuracy: 0.710600\n",
      "Epoch 50, CIFAR-10 Batch 2:  Loss:     0.0103 Validation Accuracy: 0.714400\n",
      "Epoch 50, CIFAR-10 Batch 3:  Loss:     0.0092 Validation Accuracy: 0.703200\n",
      "Epoch 50, CIFAR-10 Batch 4:  Loss:     0.0079 Validation Accuracy: 0.702000\n",
      "Epoch 50, CIFAR-10 Batch 5:  Loss:     0.0048 Validation Accuracy: 0.705800\n"
     ]
    }
   ],
   "source": [
    "\"\"\"\n",
    "DON'T MODIFY ANYTHING IN THIS CELL\n",
    "\"\"\"\n",
    "save_model_path = './image_classification'\n",
    "\n",
    "print('Training...')\n",
    "with tf.Session() as sess:\n",
    "    # Initializing the variables\n",
    "    sess.run(tf.global_variables_initializer())\n",
    "    \n",
    "    # Training cycle\n",
    "    for epoch in range(epochs):\n",
    "        # Loop over all batches\n",
    "        n_batches = 5\n",
    "        for batch_i in range(1, n_batches + 1):\n",
    "            for batch_features, batch_labels in helper.load_preprocess_training_batch(batch_i, batch_size):\n",
    "                train_neural_network(sess, optimizer, keep_probability, batch_features, batch_labels)\n",
    "            print('Epoch {:>2}, CIFAR-10 Batch {}:  '.format(epoch + 1, batch_i), end='')\n",
    "            print_stats(sess, batch_features, batch_labels, cost, accuracy)\n",
    "            \n",
    "    # Save Model\n",
    "    saver = tf.train.Saver()\n",
    "    save_path = saver.save(sess, save_model_path)"
   ]
  },
  {
   "cell_type": "markdown",
   "metadata": {
    "deletable": true,
    "editable": true
   },
   "source": [
    "# Checkpoint\n",
    "The model has been saved to disk.\n",
    "## Test Model\n",
    "Test your model against the test dataset.  This will be your final accuracy. You should have an accuracy greater than 50%. If you don't, keep tweaking the model architecture and parameters."
   ]
  },
  {
   "cell_type": "code",
   "execution_count": 21,
   "metadata": {
    "collapsed": false,
    "deletable": true,
    "editable": true
   },
   "outputs": [
    {
     "name": "stdout",
     "output_type": "stream",
     "text": [
      "Testing Accuracy: 0.7059928797468354\n",
      "\n"
     ]
    },
    {
     "data": {
      "image/png": "[encoded data removed]",
      "text/plain": [
       "<matplotlib.figure.Figure at 0x7fd5cf9762e8>"
      ]
     },
     "metadata": {
      "image/png": {
       "height": 319,
       "width": 355
      }
     },
     "output_type": "display_data"
    }
   ],
   "source": [
    "\"\"\"\n",
    "DON'T MODIFY ANYTHING IN THIS CELL\n",
    "\"\"\"\n",
    "%matplotlib inline\n",
    "%config InlineBackend.figure_format = 'retina'\n",
    "\n",
    "import tensorflow as tf\n",
    "import pickle\n",
    "import helper\n",
    "import random\n",
    "\n",
    "# Set batch size if not already set\n",
    "try:\n",
    "    if batch_size:\n",
    "        pass\n",
    "except NameError:\n",
    "    batch_size = 64\n",
    "\n",
    "save_model_path = './image_classification'\n",
    "n_samples = 4\n",
    "top_n_predictions = 3\n",
    "\n",
    "def test_model():\n",
    "    \"\"\"\n",
    "    Test the saved model against the test dataset\n",
    "    \"\"\"\n",
    "\n",
    "    test_features, test_labels = pickle.load(open('preprocess_training.p', mode='rb'))\n",
    "    loaded_graph = tf.Graph()\n",
    "\n",
    "    with tf.Session(graph=loaded_graph) as sess:\n",
    "        # Load model\n",
    "        loader = tf.train.import_meta_graph(save_model_path + '.meta')\n",
    "        loader.restore(sess, save_model_path)\n",
    "\n",
    "        # Get Tensors from loaded model\n",
    "        loaded_x = loaded_graph.get_tensor_by_name('x:0')\n",
    "        loaded_y = loaded_graph.get_tensor_by_name('y:0')\n",
    "        loaded_keep_prob = loaded_graph.get_tensor_by_name('keep_prob:0')\n",
    "        loaded_logits = loaded_graph.get_tensor_by_name('logits:0')\n",
    "        loaded_acc = loaded_graph.get_tensor_by_name('accuracy:0')\n",
    "        \n",
    "        # Get accuracy in batches for memory limitations\n",
    "        test_batch_acc_total = 0\n",
    "        test_batch_count = 0\n",
    "        \n",
    "        for train_feature_batch, train_label_batch in helper.batch_features_labels(test_features, test_labels, batch_size):\n",
    "            test_batch_acc_total += sess.run(\n",
    "                loaded_acc,\n",
    "                feed_dict={loaded_x: train_feature_batch, loaded_y: train_label_batch, loaded_keep_prob: 1.0})\n",
    "            test_batch_count += 1\n",
    "\n",
    "        print('Testing Accuracy: {}\\n'.format(test_batch_acc_total/test_batch_count))\n",
    "\n",
    "        # Print Random Samples\n",
    "        random_test_features, random_test_labels = tuple(zip(*random.sample(list(zip(test_features, test_labels)), n_samples)))\n",
    "        random_test_predictions = sess.run(\n",
    "            tf.nn.top_k(tf.nn.softmax(loaded_logits), top_n_predictions),\n",
    "            feed_dict={loaded_x: random_test_features, loaded_y: random_test_labels, loaded_keep_prob: 1.0})\n",
    "        helper.display_image_predictions(random_test_features, random_test_labels, random_test_predictions)\n",
    "\n",
    "\n",
    "test_model()"
   ]
  },
  {
   "cell_type": "markdown",
   "metadata": {
    "deletable": true,
    "editable": true
   },
   "source": [
    "## Why 50-80% Accuracy?\n",
    "You might be wondering why you can't get an accuracy any higher. First things first, 50% isn't bad for a simple CNN.  Pure guessing would get you 10% accuracy. However, you might notice people are getting scores [well above 80%](http://rodrigob.github.io/are_we_there_yet/build/classification_datasets_results.html#43494641522d3130).  That's because we haven't taught you all there is to know about neural networks. We still need to cover a few more techniques.\n",
    "## Submitting This Project\n",
    "When submitting this project, make sure to run all the cells before saving the notebook.  Save the notebook file as \"dlnd_image_classification.ipynb\" and save it as a HTML file under \"File\" -> \"Download as\".  Include the \"helper.py\" and \"problem_unittests.py\" files in your submission."
   ]
  }
 ],
 "metadata": {
  "kernelspec": {
   "display_name": "Python 3",
   "language": "python",
   "name": "python3"
  },
  "language_info": {
   "codemirror_mode": {
    "name": "ipython",
    "version": 3
   },
   "file_extension": ".py",
   "mimetype": "text/x-python",
   "name": "python",
   "nbconvert_exporter": "python",
   "pygments_lexer": "ipython3",
   "version": "3.5.2"
  },
  "widgets": {
   "state": {},
   "version": "1.1.2"
  }
 },
 "nbformat": 4,
 "nbformat_minor": 0
}
